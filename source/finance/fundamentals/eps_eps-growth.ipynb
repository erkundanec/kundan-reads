{
 "cells": [
  {
   "cell_type": "markdown",
   "metadata": {},
   "source": [
    "# Earnings Per Share (EPS)\n",
    "## Earnings Per Share (EPS)\n",
    "\n",
    "**Earnings Per Share (EPS):** This is a key financial metric that shows the portion of a company’s profit allocated to each outstanding share of common stock. It is calculated as:\n",
    "\n",
    "$$\n",
    "\\text{EPS} = \\frac{\\text{Net Income} - \\text{Preferred Dividends}}{\\text{Weighted Average Shares Outstanding}}\n",
    "$$\n",
    "\n",
    "- **Net Income** is the company’s total profit after all expenses, taxes, and interest.\n",
    "- **Preferred Dividends** are dividends paid to preferred shareholders, which are deducted because EPS focuses on common shareholders.\n",
    "- **Weighted Average Shares Outstanding** accounts for changes in the number of shares over the period, such as stock splits or new share issuance.\n",
    "\n",
    "EPS helps investors gauge the company's profitability on a per-share basis, and it's often used to assess financial performance and compare companies within the same industry."
   ]
  },
  {
   "cell_type": "markdown",
   "metadata": {},
   "source": [
    "## EPS Growth"
   ]
  },
  {
   "cell_type": "markdown",
   "metadata": {},
   "source": [
    "**EPS Growth** refers to the rate at which a company's **Earnings Per Share (EPS)** increases (or decreases) over a specific period, typically year-over-year (YoY) or quarter-over-quarter (QoQ). It helps investors gauge the company's profitability growth on a per-share basis, offering insights into the company's ability to grow its earnings relative to its share count.\n",
    "\n",
    "### Formula for EPS Growth:\n",
    "$$\n",
    "\\text{EPS Growth} = \\frac{\\text{Current Period EPS} - \\text{Previous Period EPS}}{\\text{Previous Period EPS}} \\times 100\n",
    "$$\n",
    "\n",
    "- **Current Period EPS:** The earnings per share for the most recent period (quarter or year).\n",
    "- **Previous Period EPS:** The earnings per share for the previous period (quarter or year).\n",
    "\n",
    "### Example:\n",
    "If a company's **EPS** for the current year is \\$5.00 and the previous year's **EPS** was \\$4.00, the EPS growth would be:\n",
    "\n",
    "$$\n",
    "\\text{EPS Growth} = \\frac{5.00 - 4.00}{4.00} \\times 100 = 25\\%\n",
    "$$\n",
    "\n",
    "This means the company's **EPS growth** is **25%**, indicating an increase in earnings per share from the previous period.\n",
    "\n",
    "### Why it matters:\n",
    "- **EPS Growth** is a crucial metric for investors because it reflects a company's **profitability** improvement and **earnings potential**.\n",
    "- Consistent **positive EPS growth** is often seen as a sign of a **healthy, expanding business**, while negative or stagnant EPS growth might raise concerns about future performance.\n"
   ]
  },
  {
   "cell_type": "markdown",
   "metadata": {},
   "source": []
  }
 ],
 "metadata": {
  "language_info": {
   "name": "python"
  }
 },
 "nbformat": 4,
 "nbformat_minor": 2
}
