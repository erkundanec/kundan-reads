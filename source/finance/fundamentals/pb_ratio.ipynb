{
 "cells": [
  {
   "cell_type": "markdown",
   "metadata": {},
   "source": [
    "# Price-to-Book Ratio\n",
    "## Price-to-Book Ratio\n",
    "\n",
    "**Price-to-Book Ratio (P/B Ratio):** This is a financial metric that compares a company's market value (stock price) to its book value (net asset value), calculated as:\n",
    "\n",
    "$$\n",
    "\\text{P/B Ratio} = \\frac{\\text{Market Price per Share}}{\\text{Book Value per Share}}\n",
    "$$\n",
    "\n",
    "- **Market Price per Share** is the current trading price of the company's stock.\n",
    "- **Book Value per Share** is the value of the company's assets minus liabilities, divided by the number of shares outstanding.\n",
    "\n",
    "A **P/B ratio below 1** suggests that the stock may be undervalued, meaning the market values the company less than its actual net assets. Conversely, a **P/B ratio above 1** may indicate the market is valuing the company at a premium."
   ]
  },
  {
   "cell_type": "markdown",
   "metadata": {},
   "source": [
    "## Number of Shares Outstanding\n",
    "**Number of Shares Outstanding:** This refers to the total number of shares of a company's stock that are currently owned by all shareholders, including institutional investors, retail investors, and company insiders. It includes both shares available to the public (float) and those held by insiders. \n",
    "\n",
    "This figure is important for calculating key metrics like **Earnings Per Share (EPS)** and **Price-to-Earnings (P/E) ratio**, as it helps determine the company's market capitalization and shareholder equity. The number of shares outstanding can change due to stock buybacks, new stock issuance, or other corporate actions."
   ]
  },
  {
   "cell_type": "markdown",
   "metadata": {},
   "source": []
  },
  {
   "cell_type": "markdown",
   "metadata": {},
   "source": []
  },
  {
   "cell_type": "markdown",
   "metadata": {},
   "source": []
  }
 ],
 "metadata": {
  "language_info": {
   "name": "python"
  }
 },
 "nbformat": 4,
 "nbformat_minor": 2
}
