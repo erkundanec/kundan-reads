{
 "cells": [
  {
   "cell_type": "markdown",
   "metadata": {},
   "source": [
    "# Operating Profit/Income\n",
    "\n",
    "## **Operating Profit/Income**  \n",
    "**Operating profit** is the income a company earns from its core business operations, excluding the effects of financing costs (interest) and taxes. It reflects the company's ability to generate profit purely from its regular business activities before accounting for external factors.\n",
    "\n",
    "---\n",
    "\n",
    "### **Formula for Operating Profit:**\n",
    "\n",
    "$$\n",
    "\\text{Operating Profit} = \\text{Revenue} - (\\text{Cost of Goods Sold} + \\text{Operating Expenses})\n",
    "$$\n",
    "\n",
    "Where:\n",
    "\n",
    "- **Revenue**: Total income from sales of goods or services.  \n",
    "- **COGS (Cost of Goods Sold)**: Direct costs associated with producing the goods or services sold.  \n",
    "- **Operating Expenses**: Indirect costs such as salaries, rent, utilities, and administrative expenses.\n",
    "\n",
    "Alternatively, if **Gross Profit** is given:\n",
    "$$\n",
    "\\text{Operating Profit} = \\text{Gross Profit} - \\text{Operating Expenses}\n",
    "$$\n",
    "\n",
    "---\n",
    "\n",
    "### **Key Features:**\n",
    "1. **Excludes Non-Operating Items**: Does not include interest expenses, taxes, or non-operating income like investments.\n",
    "2. **Indicator of Core Business Efficiency**: Shows how well a company manages its operations and costs to generate profit.\n",
    "\n",
    "---\n",
    "\n",
    "### **Example:**\n",
    "A company has the following financials:  \n",
    "- **Revenue**: \\$500,000  \n",
    "- **COGS**: \\$300,000  \n",
    "- **Operating Expenses**: \\$100,000  \n",
    "\n",
    "$$\n",
    "\\text{Operating Profit} = 500,000 - (300,000 + 100,000) = 100,000\n",
    "$$\n",
    "\n",
    "The company's **operating profit** is \\$100,000.\n",
    "\n",
    "---\n",
    "\n",
    "### **Why It Matters:**\n",
    "- **Measures Core Business Health**: Reflects operational performance without being influenced by financing or tax strategies.\n",
    "- **Useful for Comparisons**: Helps compare companies within the same industry, as it excludes external factors like interest rates or tax policies.\n",
    "- **Basis for Valuation**: Often used to calculate operating profit margins, which investors analyze to assess profitability."
   ]
  },
  {
   "cell_type": "markdown",
   "metadata": {},
   "source": [
    "## Operating Income Growth"
   ]
  },
  {
   "cell_type": "markdown",
   "metadata": {},
   "source": [
    "**Operating Income Growth** refers to the rate of change in a company’s **operating income** over a specific period, typically year-over-year (YoY) or quarter-over-quarter (QoQ). Operating income is the profit a company earns from its core business operations, excluding non-operating income, interest, and taxes.\n",
    "\n",
    "### Formula for Operating Income Growth:\n",
    "$$\n",
    "\\text{Operating Income Growth} = \\frac{\\text{Current Period Operating Income} - \\text{Previous Period Operating Income}}{\\text{Previous Period Operating Income}} \\times 100\n",
    "$$\n",
    "\n",
    "- **Current Period Operating Income:** Operating income for the most recent period.\n",
    "- **Previous Period Operating Income:** Operating income for the earlier comparison period.\n",
    "\n",
    "---\n",
    "\n",
    "### Example:\n",
    "If a company’s operating income for the current year is \\$12 million, and last year it was \\$10 million, the operating income growth would be:\n",
    "\n",
    "$$\n",
    "\\text{Operating Income Growth} = \\frac{12,000,000 - 10,000,000}{10,000,000} \\times 100 = 20\\%\n",
    "$$\n",
    "\n",
    "This indicates the company’s operating income grew by **20%** from the previous period.\n",
    "\n",
    "---\n",
    "\n",
    "### Why it matters:\n",
    "1. **Core Profitability Indicator:** Operating income growth reflects the company's ability to increase profitability from its main business activities, independent of external factors like financing or investments.\n",
    "2. **Operational Efficiency:** It shows whether a company is managing its operating costs effectively as revenues grow.\n",
    "3. **Investor Confidence:** Consistent positive growth in operating income is a strong signal of a well-performing business. Declines could indicate challenges in managing operations or cost pressures."
   ]
  },
  {
   "cell_type": "markdown",
   "metadata": {},
   "source": []
  }
 ],
 "metadata": {
  "language_info": {
   "name": "python"
  }
 },
 "nbformat": 4,
 "nbformat_minor": 2
}
