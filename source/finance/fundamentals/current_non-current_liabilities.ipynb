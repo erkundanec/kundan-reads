{
 "cells": [
  {
   "cell_type": "markdown",
   "metadata": {},
   "source": [
    "# Current Liabilities vs. Non-Current Liabilities"
   ]
  },
  {
   "cell_type": "markdown",
   "metadata": {},
   "source": [
    "## **Debt vs. Current Liabilities vs. Non-Current Liabilities**\n",
    "\n",
    "These terms are part of a company's liabilities on its balance sheet, but they differ in meaning and classification:\n",
    "\n",
    "### **1. Debt**\n",
    "**Debt** refers specifically to borrowed funds that a company must repay, typically with interest. It includes:  \n",
    "- **Short-Term Debt**: Loans or borrowings due within 12 months (e.g., bank overdrafts, short-term loans).  \n",
    "- **Long-Term Debt**: Loans or borrowings due after more than 12 months (e.g., bonds, term loans).  \n",
    "\n",
    "#### Key Points:  \n",
    "- Debt is **a subset of liabilities** focused solely on borrowing.  \n",
    "- It usually incurs **interest costs** and requires scheduled repayments.  \n",
    "\n",
    "### **2. Current Liabilities**\n",
    "**Current Liabilities** are obligations the company must settle within **12 months** or its operating cycle (whichever is longer).  \n",
    "\n",
    "#### Examples:  \n",
    "- Accounts payable (money owed to suppliers).  \n",
    "- Short-term debt (e.g., bank overdrafts or loans due in a year).  \n",
    "- Accrued expenses (e.g., wages, utilities).  \n",
    "- Taxes payable.  \n",
    "- Unearned revenue (payments received for future goods or services).  \n",
    "\n",
    "#### Key Points:  \n",
    "- They are typically **non-interest-bearing** (except short-term debt).  \n",
    "- They represent the company’s **short-term financial obligations**.  \n",
    "\n",
    "### **3. Non-Current Liabilities**  \n",
    "**Non-Current Liabilities** are obligations the company expects to settle **after 12 months**.  \n",
    "\n",
    "#### Examples:  \n",
    "- Long-term debt (e.g., bonds, loans maturing in more than a year).  \n",
    "- Lease obligations (long-term commitments under leases).  \n",
    "- Deferred tax liabilities (taxes owed but deferred to future periods).  \n",
    "- Pension obligations.  \n",
    "\n",
    "#### Key Points:  \n",
    "- They usually involve **long-term financial commitments**.  \n",
    "- They often include **interest-bearing liabilities** like long-term loans.  \n",
    "\n",
    "### **Summary of Differences:**\n",
    "\n",
    "| **Category**          | **Definition**                                     | **Examples**                              | **Timeframe**       |\n",
    "|------------------------|---------------------------------------------------|-------------------------------------------|---------------------|\n",
    "| **Debt**              | Borrowed funds, typically with interest.           | Bonds, loans, bank overdrafts.            | Can be short or long-term. |\n",
    "| **Current Liabilities** | Obligations due within 12 months.                 | Accounts payable, taxes payable, wages.   | Short-term (< 12 months). |\n",
    "| **Non-Current Liabilities** | Obligations due after 12 months.               | Long-term debt, leases, pension liabilities. | Long-term (> 12 months). |\n",
    "\n",
    "### **Key Relationship:**\n",
    "1. **Debt** is a part of liabilities (both current and non-current) but focuses only on borrowing.  \n",
    "2. **Liabilities** include both **debt** and **non-debt obligations**, such as trade payables and taxes.  \n",
    "3. Current liabilities are short-term, while non-current liabilities are long-term.  \n",
    "\n",
    "By analyzing these categories, investors assess a company’s financial structure, liquidity, and leverage."
   ]
  },
  {
   "cell_type": "markdown",
   "metadata": {},
   "source": []
  }
 ],
 "metadata": {
  "language_info": {
   "name": "python"
  }
 },
 "nbformat": 4,
 "nbformat_minor": 2
}
