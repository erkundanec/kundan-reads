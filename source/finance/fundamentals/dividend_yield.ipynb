{
 "cells": [
  {
   "cell_type": "markdown",
   "metadata": {},
   "source": [
    "# Dividend Yield\n",
    "\n",
    "## Dividend Yield\n",
    "\n",
    "**Dividend Yield:** This is a financial ratio that shows how much income a company generates for its shareholders in the form of dividends, relative to its stock price. It is calculated as:\n",
    "\n",
    "$$\n",
    "\\text{Dividend Yield} = \\frac{\\text{Annual Dividend per Share}}{\\text{Market Price per Share}} \\times 100\n",
    "$$\n",
    "\n",
    "- **Annual Dividend per Share** is the total amount paid out as dividends to shareholders for each share over the course of a year.\n",
    "- **Market Price per Share** is the current trading price of the company’s stock.\n",
    "\n",
    "## Example:\n",
    "If a company pays an annual dividend of $2 per share, and its stock price is $40, the dividend yield would be:\n",
    "\n",
    "$$\n",
    "\\text{Dividend Yield} = \\frac{2}{40} \\times 100 = 5\\%\n",
    "$$\n",
    "\n",
    "This means that for every $100 invested in the stock, an investor would receive $5 annually in dividends. The dividend yield is important for income-focused investors who prioritize steady dividend income."
   ]
  },
  {
   "cell_type": "markdown",
   "metadata": {},
   "source": [
    "When calculating metrics like **Dividend Yield** or when analyzing a company's stock price in general, the **stock price on the ex-dividend date** is typically used to calculate the dividend yield. Here’s why:\n",
    "\n",
    "1. **Ex-Dividend Date:** This is the date on or after which a stock begins trading without the right to receive the next dividend payment. If you buy the stock on or after the ex-dividend date, you will not receive the upcoming dividend. Therefore, the ex-dividend date reflects the most accurate price adjustment after factoring in the dividend payout.\n",
    "\n",
    "2. **Other Use Cases:**  \n",
    "   - For calculating **P/E Ratio** or **Price-to-Book Ratio (P/B)**, the **closing price on the day of calculation** (usually the most recent trading day) is typically used.\n",
    "   - If you are conducting **technical analysis** or **historical performance**, the stock price of a specific day (like the end of the trading day or the closing price) is commonly chosen.\n",
    "\n",
    "### In summary:\n",
    "For **dividend-related calculations**, use the **stock price on the ex-dividend date**, and for other metrics or general stock analysis, use the **closing price on the relevant date**."
   ]
  }
 ],
 "metadata": {
  "language_info": {
   "name": "python"
  }
 },
 "nbformat": 4,
 "nbformat_minor": 2
}
