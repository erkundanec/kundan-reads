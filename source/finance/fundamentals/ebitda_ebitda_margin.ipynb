{
 "cells": [
  {
   "cell_type": "markdown",
   "metadata": {},
   "source": [
    "# EBITDA and EBITDA margin"
   ]
  },
  {
   "cell_type": "markdown",
   "metadata": {},
   "source": [
    "## **EBITDA (Earnings Before Interest, Taxes, Depreciation, and Amortization)**  \n",
    "**EBITDA** is a measure of a company’s core profitability by excluding the effects of non-operating expenses (interest and taxes) and non-cash charges (depreciation and amortization). It focuses on the operating performance and cash-generating ability of a business.  \n",
    "\n",
    "### **Formula for EBITDA:**\n",
    "$$\n",
    "\\text{EBITDA} = \\text{Revenue} - \\text{Operating Expenses (excluding D&A)}\n",
    "$$\n",
    "\n",
    "Or equivalently:\n",
    "$$\n",
    "\\text{EBITDA} = \\text{Net Profit} + \\text{Interest} + \\text{Taxes} + \\text{Depreciation} + \\text{Amortization}\n",
    "$$\n",
    "\n",
    "## **EBITDA Margin**  \n",
    "The **EBITDA Margin** is a profitability metric that expresses EBITDA as a percentage of revenue. It measures how efficiently a company converts its revenue into operating profit before interest, taxes, and non-cash expenses.\n",
    "\n",
    "### **Formula for EBITDA Margin:**\n",
    "$$\n",
    "\\text{EBITDA Margin} = \\frac{\\text{EBITDA}}{\\text{Revenue}} \\times 100\n",
    "$$\n",
    "\n",
    "### **Example:**\n",
    "If a company has:  \n",
    "- **Revenue**: \\$100 million  \n",
    "- **Operating Expenses (excluding D&A)**: \\$60 million  \n",
    "- **Depreciation & Amortization**: \\$10 million  \n",
    "\n",
    "1. Calculate **EBITDA**:  \n",
    "$$\n",
    "\\text{EBITDA} = 100,000,000 - 60,000,000 = 40,000,000\n",
    "$$\n",
    "\n",
    "2. Calculate **EBITDA Margin**:  \n",
    "$$\n",
    "\\text{EBITDA Margin} = \\frac{40,000,000}{100,000,000} \\times 100 = 40\\%\n",
    "$$\n",
    "\n",
    "The **EBITDA Margin** is **40%**, meaning the company keeps \\$0.40 of every dollar of revenue as EBITDA.\n",
    "\n",
    "## **Why EBITDA and EBITDA Margin Matter:**\n",
    "1. **Core Profitability**:  \n",
    "   - EBITDA isolates the operating performance of a business, making it easier to compare companies with different capital structures or tax environments.  \n",
    "\n",
    "2. **Industry Comparisons**:  \n",
    "   - EBITDA Margin is particularly useful for comparing profitability across companies in the same industry.  \n",
    "\n",
    "3. **Cash Flow Proxy**:  \n",
    "   - While not a direct measure of cash flow, EBITDA is often used as a proxy because it excludes non-cash expenses like depreciation.\n",
    "\n",
    "## **Key Considerations:**\n",
    "1. **Excludes Key Costs**:  \n",
    "   - EBITDA ignores important costs like interest, taxes, and capital expenditures, so it should not be the sole measure of profitability.  \n",
    "\n",
    "2. **Industry Norms**:  \n",
    "   - Different industries have different EBITDA margins. High-margin industries (e.g., software) may show 40%+ margins, while low-margin sectors (e.g., retail) might operate with margins in the single digits.  \n",
    "\n",
    "3. **Non-Cash Adjustments**:  \n",
    "   - Depreciation and amortization are real costs that reflect asset wear and tear, so over-reliance on EBITDA can mislead if these are significant.  \n",
    "\n",
    "## **Conclusion:**\n",
    "- **EBITDA** highlights a company’s profitability from its core operations, excluding the effects of financing and accounting decisions.  \n",
    "- **EBITDA Margin** expresses this as a percentage of revenue, allowing for easier comparisons.  \n",
    "While **higher EBITDA Margins** typically indicate stronger profitability, it’s essential to use this metric alongside others for a complete financial analysis."
   ]
  }
 ],
 "metadata": {
  "language_info": {
   "name": "python"
  }
 },
 "nbformat": 4,
 "nbformat_minor": 2
}
