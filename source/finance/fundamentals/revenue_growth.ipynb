{
 "cells": [
  {
   "cell_type": "markdown",
   "metadata": {},
   "source": [
    "# Revenue/Sales Growth\n",
    "\n",
    "## Revenue Growth\n",
    "\n",
    "**Revenue Growth** refers to the increase in a company's sales (or revenue) over a specific period, usually compared year-over-year (YoY) or quarter-over-quarter (QoQ). It is a key metric for evaluating a company's ability to grow its business and expand its market share. \n",
    "\n",
    "### Formula for Revenue Growth:\n",
    "$$\n",
    "\\text{Revenue Growth} = \\frac{\\text{Current Period Revenue} - \\text{Previous Period Revenue}}{\\text{Previous Period Revenue}} \\times 100\n",
    "$$\n",
    "\n",
    "- **Current Period Revenue**: The total sales or revenue generated in the most recent period.\n",
    "- **Previous Period Revenue**: The total sales or revenue generated in the previous period (e.g., last quarter or last year).\n",
    "\n",
    "### Example:\n",
    "If a company's revenue in the current year is $\\$$ 10 million and the previous year's revenue was $\\$$ 8 million, the revenue growth would be:\n",
    "\n",
    "$$\n",
    "\\text{Revenue Growth} = \\frac{10,000,000 - 8,000,000}{8,000,000} \\times 100 = 25\\%\n",
    "$$\n",
    "\n",
    "This means the company experienced a **25% revenue growth** compared to the previous year.\n",
    "\n",
    "### Why it matters:\n",
    "- **Revenue growth** is a key indicator of a company's **expansion** and **market acceptance** of its products or services.\n",
    "- It is often used to assess the **growth potential** of a company and is important for investors looking for companies with **strong growth prospects**."
   ]
  },
  {
   "cell_type": "markdown",
   "metadata": {},
   "source": []
  }
 ],
 "metadata": {
  "language_info": {
   "name": "python"
  }
 },
 "nbformat": 4,
 "nbformat_minor": 2
}
