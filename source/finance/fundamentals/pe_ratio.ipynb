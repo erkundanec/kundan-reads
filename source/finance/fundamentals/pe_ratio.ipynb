{
 "cells": [
  {
   "cell_type": "markdown",
   "metadata": {},
   "source": [
    "# Price-to-Earnings (P/E) Ratio\n",
    "## Price-to-Earnings (P/E) Ratio\n",
    "\n",
    "**Price-to-Earnings (P/E) Ratio:** This is a valuation metric that compares a company's current share price to its earnings per share (EPS), calculated as:\n",
    "\n",
    "$$\n",
    "\\text{P/E Ratio} = \\frac{\\text{Market Price per Share}}{\\text{Earnings Per Share (EPS)}}\n",
    "$$\n",
    "\n",
    "- **Market Price per Share** is the current price at which the company's stock is trading.\n",
    "- **Earnings Per Share (EPS)** is the company's net income divided by the number of outstanding shares.\n",
    "\n",
    "The P/E ratio indicates how much investors are willing to pay for each dollar of earnings. A **high P/E ratio** suggests that investors expect strong future growth, while a **low P/E ratio** might indicate undervaluation or low growth expectations. The ratio is often compared to industry averages or historical trends to assess whether a stock is overvalued or undervalued."
   ]
  }
 ],
 "metadata": {
  "language_info": {
   "name": "python"
  }
 },
 "nbformat": 4,
 "nbformat_minor": 2
}
