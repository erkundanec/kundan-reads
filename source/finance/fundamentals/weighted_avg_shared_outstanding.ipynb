{
 "cells": [
  {
   "cell_type": "markdown",
   "metadata": {},
   "source": [
    "# Weighted Average Shares Outstanding"
   ]
  },
  {
   "cell_type": "markdown",
   "metadata": {},
   "source": [
    "## Weighted Average Shares Outstanding"
   ]
  },
  {
   "cell_type": "markdown",
   "metadata": {},
   "source": [
    "**Weighted Average Shares Outstanding (WASO):** This is the average number of shares of a company that are outstanding during a specific period, adjusted for any stock issuances or repurchases. It is used in financial calculations like **Earnings Per Share (EPS)** to reflect changes in the number of shares over time.\n",
    "\n",
    "The formula to calculate the weighted average is:\n",
    "\n",
    "$$\n",
    "\\text{WASO} = \\sum (\\text{Shares Outstanding} \\times \\text{Fraction of Time Outstanding})\n",
    "$$\n",
    "\n",
    "- If the number of shares changes during the period (due to stock buybacks, new issues, or other corporate actions), the shares are weighted based on how long they were outstanding during the period.\n",
    "  \n",
    "For example, if a company had 1 million shares for 6 months and issued 200,000 additional shares halfway through the year, the weighted average would account for these changes in share count over the period, providing a more accurate measure for EPS calculation."
   ]
  },
  {
   "cell_type": "markdown",
   "metadata": {},
   "source": [
    "Let's walk through an example of calculating the **Weighted Average Shares Outstanding**:\n",
    "\n",
    "## Example\n",
    "- **Initial shares outstanding at the beginning of the year:** 1,000,000 shares\n",
    "- **Additional shares issued:** 200,000 shares\n",
    "- **Date of additional shares issued:** June 30 (halfway through the year)\n",
    "\n",
    "### Step-by-Step Calculation\n",
    "1. **Shares for the first half of the year (6 months):**\n",
    "   - **Number of shares:** 1,000,000\n",
    "   - **Fraction of the year they were outstanding:** 6/12 = 0.5\n",
    "\n",
    "   So, the weighted contribution for the first 6 months is:\n",
    "   $$\n",
    "   1,000,000 \\times 0.5 = 500,000\n",
    "   $$\n",
    "\n",
    "2. **Shares for the second half of the year (6 months after the issuance):**\n",
    "   - **Number of shares:** 1,200,000 (1,000,000 initial + 200,000 new shares)\n",
    "   - **Fraction of the year they were outstanding:** 6/12 = 0.5\n",
    "\n",
    "   So, the weighted contribution for the second 6 months is:\n",
    "   $$\n",
    "   1,200,000 \\times 0.5 = 600,000\n",
    "   $$\n",
    "\n",
    "### Weighted Average Shares Outstanding\n",
    "$$\n",
    "500,000 + 600,000 = 1,100,000 \\text{ shares}\n",
    "$$\n",
    "\n",
    "Thus, the **Weighted Average Shares Outstanding** for the year would be **1,100,000 shares**. \n",
    "\n",
    "This adjusted figure reflects the impact of the additional shares issued halfway through the year."
   ]
  }
 ],
 "metadata": {
  "language_info": {
   "name": "python"
  }
 },
 "nbformat": 4,
 "nbformat_minor": 2
}
