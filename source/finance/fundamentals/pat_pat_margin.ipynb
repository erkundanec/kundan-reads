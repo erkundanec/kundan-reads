{
 "cells": [
  {
   "cell_type": "markdown",
   "metadata": {},
   "source": [
    "# Profit after tax (PAT) and PAT margin"
   ]
  },
  {
   "cell_type": "markdown",
   "metadata": {},
   "source": [
    "## **Profit After Tax (PAT)**  \n",
    "**Profit After Tax (PAT)** is the net profit a company earns after deducting all expenses, including operating costs, interest, taxes, and other charges, from its total revenue. It represents the actual earnings available to shareholders and is also called **Net Income** or **Net Profit**.  \n",
    "\n",
    "### **Formula for PAT:**\n",
    "$$\n",
    "\\text{PAT} = \\text{Revenue} - \\text{Operating Expenses} - \\text{Interest} - \\text{Taxes} - \\text{Other Expenses}\n",
    "$$\n",
    "\n",
    "## **PAT Margin**  \n",
    "**PAT Margin** is a profitability ratio that measures what percentage of a company's revenue is converted into profit after accounting for all expenses, including taxes. It reflects the company's overall profitability and efficiency in managing expenses relative to its revenue.  \n",
    "\n",
    "### **Formula for PAT Margin:**\n",
    "$$\n",
    "\\text{PAT Margin} = \\frac{\\text{Profit After Tax (PAT)}}{\\text{Revenue}} \\times 100\n",
    "$$\n",
    "\n",
    "### **Example:**\n",
    "If a company has:  \n",
    "\n",
    "- **Revenue**: \\$100 million  \n",
    "- **PAT**: \\$20 million  \n",
    "\n",
    "$$\n",
    "\\text{PAT Margin} = \\frac{20,000,000}{100,000,000} \\times 100 = 20\\%\n",
    "$$\n",
    "\n",
    "The company's **PAT Margin** is **20%**, meaning it keeps \\$0.20 as profit for every dollar of revenue.\n",
    "\n",
    "\n",
    "## **Why PAT and PAT Margin Matter:**\n",
    "1. **Overall Profitability**:  \n",
    "   - PAT shows the actual profit attributable to shareholders, and PAT Margin reflects how efficiently a company converts revenue into final profit.\n",
    "   \n",
    "2. **Shareholder Value**:  \n",
    "   - PAT is a critical metric for shareholders as it directly affects earnings per share (EPS) and dividend payouts.\n",
    "\n",
    "3. **Comparison Across Companies**:  \n",
    "   - PAT Margin is useful for comparing companies within the same industry, as it adjusts for size differences by expressing profit as a percentage of revenue.\n",
    "\n",
    "## **Key Considerations:**\n",
    "1. **Industry Norms**:  \n",
    "   - Different industries have varying PAT margins due to differences in cost structures. For example, tech companies may have higher margins than retail businesses.  \n",
    "\n",
    "2. **Growth vs. Efficiency**:  \n",
    "   - A high PAT Margin could indicate strong profitability, but very low margins might suggest operational inefficiencies or heavy tax burdens.\n",
    "\n",
    "3. **One-Time Items**:  \n",
    "   - Non-recurring items like asset sales or write-offs can distort PAT, so investors often adjust for these when assessing PAT Margin.\n",
    "\n",
    "## **Conclusion:**\n",
    "- **Profit After Tax (PAT)** measures the absolute earnings of a company after all expenses and taxes.  \n",
    "- **PAT Margin** expresses this profitability as a percentage of revenue, allowing for better comparisons and insight into efficiency.  \n",
    "A higher PAT Margin generally indicates better financial health and operational efficiency."
   ]
  }
 ],
 "metadata": {
  "language_info": {
   "name": "python"
  }
 },
 "nbformat": 4,
 "nbformat_minor": 2
}
