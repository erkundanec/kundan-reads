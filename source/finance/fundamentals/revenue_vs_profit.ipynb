{
 "cells": [
  {
   "cell_type": "markdown",
   "metadata": {},
   "source": [
    "# Revenue vs profit"
   ]
  },
  {
   "cell_type": "markdown",
   "metadata": {},
   "source": [
    "## **Revenue vs. Profit**\n",
    "\n",
    "**Revenue** and **Profit** are two fundamental financial metrics, but they measure different aspects of a company’s performance.\n",
    "\n",
    "### **1. Revenue**\n",
    "- **Definition**:  \n",
    "  The total amount of money a company earns from its core operations by selling goods or services during a specific period.  \n",
    "\n",
    "- **Formula**:  \n",
    "  $$\n",
    "  \\text{Revenue} = \\text{Units Sold} \\times \\text{Price Per Unit}\n",
    "  $$\n",
    "\n",
    "- **Key Points**:  \n",
    "  - Referred to as the **top line** of the income statement.  \n",
    "  - Represents the **gross inflow of money**.  \n",
    "  - Includes only earnings from **core operations** (e.g., product sales, service fees).\n",
    "\n",
    "\n",
    "### **2. Profit**\n",
    "- **Definition**:  \n",
    "  The amount of money a company retains after deducting all expenses, costs, and taxes from its revenue. Profit is often referred to as the **bottom line** of the income statement.  \n",
    "\n",
    "- **Types of Profit**:  \n",
    "  1. **Gross Profit**: Revenue minus the cost of goods sold (COGS).  \n",
    "  2. **Operating Profit (EBIT)**: Gross profit minus operating expenses.  \n",
    "  3. **Net Profit (PAT)**: Final profit after subtracting all expenses, taxes, interest, and non-operating costs.  \n",
    "\n",
    "- **Formula for Net Profit**:  \n",
    "  $$\n",
    "  \\text{Net Profit} = \\text{Revenue} - \\text{Total Expenses}\n",
    "  $$\n",
    "\n",
    "\n",
    "## **Key Differences**\n",
    "\n",
    "| **Metric**     | **Revenue**                                    | **Profit**                               |\n",
    "|-----------------|-----------------------------------------------|------------------------------------------|\n",
    "| **Definition** | Total money earned from core operations.       | Money left after all expenses are paid.  |\n",
    "| **Placement**  | Top line of the income statement.              | Bottom line of the income statement.     |\n",
    "| **Focus**      | Focuses on total sales or earnings.            | Focuses on efficiency and profitability. |\n",
    "| **Includes**   | Gross earnings without deductions.             | Earnings after all deductions (e.g., costs, taxes). |\n",
    "| **Indicator**  | Scale of operations and market presence.       | Financial health and business efficiency. |\n",
    "\n",
    "\n",
    "## **Example**:\n",
    "Suppose a company generates $\\$$ 1,000,000 in revenue.  \n",
    "\n",
    "1. **Revenue**: $\\$$ 1,000,000 (total sales).  \n",
    "2. **Gross Profit**: Revenue ($\\$$ 1,000,000) - Cost of Goods Sold (COGS, $\\$$ 400,000) = **$\\$$ 600,000**.  \n",
    "3. **Operating Profit**: Gross Profit ($\\$$ 600,000) - Operating Expenses ($\\$$ 200,000) = **$\\$$ 400,000**.  \n",
    "4. **Net Profit**: Operating Profit ($\\$$ 400,000) - Taxes & Interest ($\\$$ 150,000) = **$\\$$ 250,000**.\n",
    "\n",
    "\n",
    "## **Conclusion**:\n",
    "- **Revenue** shows the scale of the business, but it doesn’t tell you if the company is profitable.  \n",
    "- **Profit** indicates the company’s ability to manage expenses and generate value from its revenue.  \n",
    "\n",
    "High revenue with low profit could signal inefficiencies or high costs, while low revenue with high profit suggests efficient operations. Both metrics must be analyzed together for a full financial picture."
   ]
  }
 ],
 "metadata": {
  "language_info": {
   "name": "python"
  }
 },
 "nbformat": 4,
 "nbformat_minor": 2
}
