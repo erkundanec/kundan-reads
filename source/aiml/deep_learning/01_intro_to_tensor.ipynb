{
 "cells": [
  {
   "cell_type": "markdown",
   "metadata": {},
   "source": [
    "# Introduction to Tensors"
   ]
  },
  {
   "cell_type": "markdown",
   "metadata": {},
   "source": [
    "## Introduction to Tensors\n",
    "\n",
    "Tensors are the fundamental data structures used in PyTorch for representing and performing operations on multidimensional arrays. Understanding tensors is crucial for working effectively with PyTorch and building neural networks. In this section, we'll delve into the basics of tensors, including their creation, manipulation, and common operations."
   ]
  },
  {
   "cell_type": "markdown",
   "metadata": {},
   "source": [
    "### What are Tensors?\n",
    "\n",
    "A tensor is a generalization of scalars, vectors, and matrices to higher dimensions. In PyTorch, tensors can have arbitrary shapes and sizes, making them versatile for representing various types of data, including images, text, and numerical data.\n",
    "\n",
    "### Creating Tensors\n",
    "\n",
    "Let's start by creating tensors in PyTorch. There are several ways to create tensors:\n",
    "\n",
    "#### 1. Directly from Data"
   ]
  },
  {
   "cell_type": "code",
   "execution_count": 11,
   "metadata": {},
   "outputs": [
    {
     "name": "stdout",
     "output_type": "stream",
     "text": [
      "Tensor from a Python list:\n",
      "tensor([1, 2, 3, 4, 5])\n",
      "\n",
      "Tensor from a NumPy array:\n",
      "tensor([[1, 2, 3],\n",
      "        [4, 5, 6]], dtype=torch.int32)\n"
     ]
    }
   ],
   "source": [
    "import torch\n",
    "\n",
    "# Create a tensor from a Python list\n",
    "tensor_list = torch.tensor([1, 2, 3, 4, 5])\n",
    "print(\"Tensor from a Python list:\")\n",
    "print(tensor_list)\n",
    "\n",
    "# Create a tensor from a NumPy array\n",
    "import numpy as np\n",
    "numpy_array = np.array([[1, 2, 3], [4, 5, 6]])\n",
    "tensor_numpy = torch.tensor(numpy_array)\n",
    "print(\"\\nTensor from a NumPy array:\")\n",
    "print(tensor_numpy)"
   ]
  },
  {
   "cell_type": "markdown",
   "metadata": {},
   "source": [
    "#### 2. Using Built-in Functions"
   ]
  },
  {
   "cell_type": "code",
   "execution_count": 12,
   "metadata": {},
   "outputs": [
    {
     "name": "stdout",
     "output_type": "stream",
     "text": [
      "\n",
      "Tensor of zeros:\n",
      "tensor([[0., 0., 0.],\n",
      "        [0., 0., 0.]])\n",
      "\n",
      "Tensor of ones:\n",
      "tensor([[1., 1.],\n",
      "        [1., 1.],\n",
      "        [1., 1.]])\n",
      "\n",
      "Tensor with random values (uniform distribution):\n",
      "tensor([[0.2279, 0.9568, 0.7859],\n",
      "        [0.2056, 0.5483, 0.7812],\n",
      "        [0.6688, 0.4346, 0.4980]])\n",
      "\n",
      "Tensor with random values (normal distribution):\n",
      "tensor([[-0.8922,  0.2279],\n",
      "        [-1.2808,  0.7052]])\n"
     ]
    }
   ],
   "source": [
    "# Create a tensor of zeros with a specific shape\n",
    "tensor_zeros = torch.zeros(2, 3)\n",
    "print(\"\\nTensor of zeros:\")\n",
    "print(tensor_zeros)\n",
    "\n",
    "# Create a tensor of ones with a specific shape\n",
    "tensor_ones = torch.ones(3, 2)\n",
    "print(\"\\nTensor of ones:\")\n",
    "print(tensor_ones)\n",
    "\n",
    "# Create a tensor with random values from a uniform distribution\n",
    "tensor_uniform = torch.rand(3, 3)\n",
    "print(\"\\nTensor with random values (uniform distribution):\")\n",
    "print(tensor_uniform)\n",
    "\n",
    "# Create a tensor with random values from a normal distribution\n",
    "tensor_normal = torch.randn(2, 2)\n",
    "print(\"\\nTensor with random values (normal distribution):\")\n",
    "print(tensor_normal)"
   ]
  },
  {
   "cell_type": "markdown",
   "metadata": {},
   "source": [
    "#### 3. Using Specific Data Types"
   ]
  },
  {
   "cell_type": "code",
   "execution_count": 13,
   "metadata": {},
   "outputs": [
    {
     "name": "stdout",
     "output_type": "stream",
     "text": [
      "\n",
      "Tensor of ones with float32 data type:\n",
      "tensor([[1., 1.],\n",
      "        [1., 1.]])\n",
      "\n",
      "Tensor of zeros with int64 data type:\n",
      "tensor([[0, 0, 0],\n",
      "        [0, 0, 0],\n",
      "        [0, 0, 0]])\n"
     ]
    }
   ],
   "source": [
    "# Create a tensor of ones with a specific data type\n",
    "tensor_float = torch.ones(2, 2, dtype=torch.float32)\n",
    "print(\"\\nTensor of ones with float32 data type:\")\n",
    "print(tensor_float)\n",
    "\n",
    "# Create a tensor of zeros with a specific data type\n",
    "tensor_long = torch.zeros(3, 3, dtype=torch.int64)\n",
    "print(\"\\nTensor of zeros with int64 data type:\")\n",
    "print(tensor_long)"
   ]
  },
  {
   "cell_type": "markdown",
   "metadata": {},
   "source": [
    "### Tensor Operations\n",
    "\n",
    "PyTorch provides a wide range of operations for manipulating tensors, similar to NumPy. Here are some common tensor operations:\n",
    "\n",
    "#### 1. Element-wise Operations"
   ]
  },
  {
   "cell_type": "code",
   "execution_count": 14,
   "metadata": {},
   "outputs": [
    {
     "name": "stdout",
     "output_type": "stream",
     "text": [
      "\n",
      "Element-wise addition:\n",
      "tensor([[ 6,  8],\n",
      "        [10, 12]])\n",
      "\n",
      "Element-wise multiplication:\n",
      "tensor([[ 5, 12],\n",
      "        [21, 32]])\n"
     ]
    }
   ],
   "source": [
    "# Element-wise addition\n",
    "tensor_a = torch.tensor([[1, 2], [3, 4]])\n",
    "tensor_b = torch.tensor([[5, 6], [7, 8]])\n",
    "tensor_sum = tensor_a + tensor_b\n",
    "print(\"\\nElement-wise addition:\")\n",
    "print(tensor_sum)\n",
    "\n",
    "# Element-wise multiplication\n",
    "tensor_product = tensor_a * tensor_b\n",
    "print(\"\\nElement-wise multiplication:\")\n",
    "print(tensor_product)"
   ]
  },
  {
   "cell_type": "markdown",
   "metadata": {},
   "source": [
    "#### 2. Reshaping Tensors"
   ]
  },
  {
   "cell_type": "code",
   "execution_count": 15,
   "metadata": {},
   "outputs": [
    {
     "name": "stdout",
     "output_type": "stream",
     "text": [
      "\n",
      "Original tensor:\n",
      "tensor([[1, 2, 3],\n",
      "        [4, 5, 6]])\n",
      "\n",
      "Reshaped tensor:\n",
      "tensor([[1, 2],\n",
      "        [3, 4],\n",
      "        [5, 6]])\n"
     ]
    }
   ],
   "source": [
    "# Reshape a tensor\n",
    "tensor_original = torch.tensor([[1, 2, 3], [4, 5, 6]])\n",
    "tensor_reshaped = tensor_original.view(3, 2)\n",
    "print(\"\\nOriginal tensor:\")\n",
    "print(tensor_original)\n",
    "print(\"\\nReshaped tensor:\")\n",
    "print(tensor_reshaped)"
   ]
  },
  {
   "cell_type": "markdown",
   "metadata": {},
   "source": [
    "#### 3. Reduction Operations"
   ]
  },
  {
   "cell_type": "code",
   "execution_count": 16,
   "metadata": {},
   "outputs": [
    {
     "name": "stdout",
     "output_type": "stream",
     "text": [
      "\n",
      "Sum of all elements:\n",
      "tensor(21.)\n",
      "\n",
      "Mean of all elements:\n",
      "tensor(3.5000)\n"
     ]
    }
   ],
   "source": [
    "tensor_original = torch.tensor([[1, 2, 3], [4, 5, 6]], dtype=torch.float)\n",
    "# Compute the sum of all elements in a tensor\n",
    "tensor_sum_all = torch.sum(tensor_original)\n",
    "print(\"\\nSum of all elements:\")\n",
    "print(tensor_sum_all)\n",
    "\n",
    "# Compute the mean of all elements in a tensor\n",
    "tensor_mean = torch.mean(tensor_original)\n",
    "print(\"\\nMean of all elements:\")\n",
    "print(tensor_mean)"
   ]
  },
  {
   "cell_type": "markdown",
   "metadata": {},
   "source": [
    "#### 4. Matrix Operations"
   ]
  },
  {
   "cell_type": "code",
   "execution_count": 17,
   "metadata": {},
   "outputs": [
    {
     "name": "stdout",
     "output_type": "stream",
     "text": [
      "\n",
      "Matrix multiplication:\n",
      "tensor([[19, 22],\n",
      "        [43, 50]])\n",
      "\n",
      "Transposed matrix:\n",
      "tensor([[1., 4.],\n",
      "        [2., 5.],\n",
      "        [3., 6.]])\n"
     ]
    }
   ],
   "source": [
    "# Matrix multiplication\n",
    "tensor_mat1 = torch.tensor([[1, 2], [3, 4]])\n",
    "tensor_mat2 = torch.tensor([[5, 6], [7, 8]])\n",
    "tensor_mat_product = torch.matmul(tensor_mat1, tensor_mat2)\n",
    "print(\"\\nMatrix multiplication:\")\n",
    "print(tensor_mat_product)\n",
    "\n",
    "# Transpose a matrix\n",
    "tensor_transpose = torch.transpose(tensor_original, 0, 1)\n",
    "print(\"\\nTransposed matrix:\")\n",
    "print(tensor_transpose)"
   ]
  },
  {
   "cell_type": "markdown",
   "metadata": {},
   "source": [
    "### Broadcasting\n",
    "\n",
    "Broadcasting is a powerful feature in PyTorch that allows tensors with different shapes to be combined in element-wise operations. It automatically expands the dimensions of smaller tensors to match the shape of larger tensors."
   ]
  },
  {
   "cell_type": "code",
   "execution_count": 18,
   "metadata": {},
   "outputs": [
    {
     "name": "stdout",
     "output_type": "stream",
     "text": [
      "\n",
      "Broadcasting a scalar to a tensor:\n",
      "tensor([[3, 4],\n",
      "        [5, 6]])\n"
     ]
    }
   ],
   "source": [
    "# Broadcasting example\n",
    "tensor_a = torch.tensor([[1, 2], [3, 4]])\n",
    "scalar = 2\n",
    "tensor_broadcasted = tensor_a + scalar\n",
    "print(\"\\nBroadcasting a scalar to a tensor:\")\n",
    "print(tensor_broadcasted)"
   ]
  },
  {
   "cell_type": "markdown",
   "metadata": {},
   "source": [
    "### Indexing and Slicing\n",
    "\n",
    "Similar to NumPy arrays, tensors support indexing and slicing operations to access specific elements or sub-tensors.\n"
   ]
  },
  {
   "cell_type": "code",
   "execution_count": 19,
   "metadata": {},
   "outputs": [
    {
     "name": "stdout",
     "output_type": "stream",
     "text": [
      "\n",
      "Element at row 1, column 2:\n",
      "tensor(2)\n",
      "\n",
      "First row:\n",
      "tensor([1, 2, 3])\n",
      "\n",
      "Last column:\n",
      "tensor([3, 6])\n"
     ]
    }
   ],
   "source": [
    "# Indexing and slicing example\n",
    "tensor_a = torch.tensor([[1, 2, 3], [4, 5, 6]])\n",
    "print(\"\\nElement at row 1, column 2:\")\n",
    "print(tensor_a[0, 1])\n",
    "\n",
    "print(\"\\nFirst row:\")\n",
    "print(tensor_a[0, :])\n",
    "\n",
    "print(\"\\nLast column:\")\n",
    "print(tensor_a[:, -1])"
   ]
  },
  {
   "cell_type": "markdown",
   "metadata": {},
   "source": [
    "### Moving Tensors to GPU\n",
    "\n",
    "PyTorch allows tensors to be moved between CPU and GPU for acceleration using CUDA.\n"
   ]
  },
  {
   "cell_type": "code",
   "execution_count": 20,
   "metadata": {},
   "outputs": [
    {
     "name": "stdout",
     "output_type": "stream",
     "text": [
      "\n",
      "Tensor moved to GPU:\n",
      "tensor([[1, 2, 3],\n",
      "        [4, 5, 6]], device='cuda:0')\n"
     ]
    }
   ],
   "source": [
    "# Moving tensors to GPU\n",
    "if torch.cuda.is_available():\n",
    "    device = torch.device(\"cuda\")\n",
    "    tensor_gpu = tensor_a.to(device)\n",
    "    print(\"\\nTensor moved to GPU:\")\n",
    "    print(tensor_gpu)\n",
    "else:\n",
    "    print(\"\\nCUDA is not available. Cannot move tensor to GPU.\")"
   ]
  },
  {
   "cell_type": "markdown",
   "metadata": {},
   "source": [
    "### Tensor Concatenation\n",
    "\n",
    "Concatenation allows tensors to be combined along specified dimensions.\n"
   ]
  },
  {
   "cell_type": "code",
   "execution_count": 21,
   "metadata": {},
   "outputs": [
    {
     "name": "stdout",
     "output_type": "stream",
     "text": [
      "\n",
      "Concatenated tensor along columns:\n",
      "tensor([[1, 2, 5, 6],\n",
      "        [3, 4, 7, 8]])\n"
     ]
    }
   ],
   "source": [
    "# Tensor concatenation example\n",
    "tensor_a = torch.tensor([[1, 2], [3, 4]])\n",
    "tensor_b = torch.tensor([[5, 6], [7, 8]])\n",
    "tensor_concatenated = torch.cat((tensor_a, tensor_b), dim=1)\n",
    "print(\"\\nConcatenated tensor along columns:\")\n",
    "print(tensor_concatenated)"
   ]
  },
  {
   "cell_type": "markdown",
   "metadata": {},
   "source": [
    "### Tensor Comparison\n",
    "\n",
    "PyTorch supports element-wise comparison operations between tensors.\n"
   ]
  },
  {
   "cell_type": "code",
   "execution_count": 22,
   "metadata": {},
   "outputs": [
    {
     "name": "stdout",
     "output_type": "stream",
     "text": [
      "\n",
      "Comparison result (element-wise):\n",
      "tensor([[False, False],\n",
      "        [False, False]])\n"
     ]
    }
   ],
   "source": [
    "# Tensor comparison example\n",
    "tensor_a = torch.tensor([[1, 2], [3, 4]])\n",
    "tensor_b = torch.tensor([[1, 3], [3, 5]])\n",
    "tensor_comparison = tensor_a > tensor_b\n",
    "print(\"\\nComparison result (element-wise):\")\n",
    "print(tensor_comparison)"
   ]
  },
  {
   "cell_type": "markdown",
   "metadata": {},
   "source": [
    "### Conclusion\n",
    "\n",
    "Tensors are the backbone of PyTorch and are used extensively in deep learning applications. In this section, we covered the basics of tensors, including their creation, manipulation, and common operations, including broadcasting, indexing, moving tensors to GPU, concatenation, and comparison operations. Understanding tensors is essential for effectively working with PyTorch and building complex neural networks. Experiment with different tensor operations and explore their applications in your deep learning projects."
   ]
  }
 ],
 "metadata": {
  "kernelspec": {
   "display_name": "py312",
   "language": "python",
   "name": "python3"
  },
  "language_info": {
   "codemirror_mode": {
    "name": "ipython",
    "version": 3
   },
   "file_extension": ".py",
   "mimetype": "text/x-python",
   "name": "python",
   "nbconvert_exporter": "python",
   "pygments_lexer": "ipython3",
   "version": "3.9.18"
  }
 },
 "nbformat": 4,
 "nbformat_minor": 2
}
