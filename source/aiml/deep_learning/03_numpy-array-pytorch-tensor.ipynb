{
 "cells": [
  {
   "cell_type": "markdown",
   "metadata": {},
   "source": [
    "# NumPy arrays and PyTorch Tensors"
   ]
  },
  {
   "cell_type": "markdown",
   "metadata": {},
   "source": [
    "Working with NumPy arrays and PyTorch tensors interchangeably is crucial for seamlessly integrating PyTorch into existing workflows and leveraging the strengths of both libraries. In this section, we'll explore how to convert between NumPy arrays and PyTorch tensors and perform operations with them.\n",
    "\n",
    "### Converting NumPy Arrays to PyTorch Tensors\n",
    "\n",
    "You can convert a NumPy array to a PyTorch tensor using `torch.tensor()` or `torch.from_numpy()`."
   ]
  },
  {
   "cell_type": "code",
   "execution_count": 5,
   "metadata": {},
   "outputs": [
    {
     "name": "stdout",
     "output_type": "stream",
     "text": [
      "Tensor from NumPy array:\n",
      "tensor([[1, 2, 3],\n",
      "        [4, 5, 6]], dtype=torch.int32)\n",
      "\n",
      "Tensor from NumPy array (using torch.from_numpy()):\n",
      "tensor([[1, 2, 3],\n",
      "        [4, 5, 6]], dtype=torch.int32)\n"
     ]
    }
   ],
   "source": [
    "import numpy as np\n",
    "import torch\n",
    "\n",
    "# Create a NumPy array\n",
    "numpy_array = np.array([[1, 2, 3], [4, 5, 6]])\n",
    "\n",
    "# Convert NumPy array to PyTorch tensor\n",
    "tensor_from_numpy = torch.tensor(numpy_array)\n",
    "print(\"Tensor from NumPy array:\")\n",
    "print(tensor_from_numpy)\n",
    "\n",
    "# Alternatively, use torch.from_numpy()\n",
    "tensor_from_numpy_alt = torch.from_numpy(numpy_array)\n",
    "print(\"\\nTensor from NumPy array (using torch.from_numpy()):\")\n",
    "print(tensor_from_numpy_alt)"
   ]
  },
  {
   "cell_type": "markdown",
   "metadata": {},
   "source": [
    "### Converting PyTorch Tensors to NumPy Arrays\n",
    "\n",
    "Converting a PyTorch tensor to a NumPy array is achieved using the `.numpy()` method.\n"
   ]
  },
  {
   "cell_type": "code",
   "execution_count": 6,
   "metadata": {},
   "outputs": [
    {
     "name": "stdout",
     "output_type": "stream",
     "text": [
      "\n",
      "NumPy array from tensor:\n",
      "[[1 2 3]\n",
      " [4 5 6]]\n"
     ]
    }
   ],
   "source": [
    "# Convert PyTorch tensor to NumPy array\n",
    "numpy_from_tensor = tensor_from_numpy.numpy()\n",
    "print(\"\\nNumPy array from tensor:\")\n",
    "print(numpy_from_tensor)"
   ]
  },
  {
   "cell_type": "markdown",
   "metadata": {},
   "source": [
    "### Performing Operations with NumPy Arrays and PyTorch Tensors\n",
    "\n",
    "You can perform operations between NumPy arrays and PyTorch tensors seamlessly, as PyTorch supports automatic conversion between the two."
   ]
  },
  {
   "cell_type": "code",
   "execution_count": 7,
   "metadata": {},
   "outputs": [
    {
     "name": "stdout",
     "output_type": "stream",
     "text": [
      "\n",
      "Element-wise addition:\n",
      "tensor([[ 2,  4,  6],\n",
      "        [ 8, 10, 12]], dtype=torch.int32)\n",
      "\n",
      "Matrix multiplication:\n",
      "[[ 7 10]\n",
      " [15 22]]\n"
     ]
    }
   ],
   "source": [
    "import numpy as np\n",
    "import torch\n",
    "\n",
    "# Element-wise addition between NumPy array and PyTorch tensor\n",
    "numpy_array = np.array([[1, 2, 3], [4, 5, 6]])\n",
    "tensor_from_numpy = torch.tensor(numpy_array)\n",
    "result = tensor_from_numpy + tensor_from_numpy  # Convert numpy_array to a tensor for element-wise addition\n",
    "print(\"\\nElement-wise addition:\")\n",
    "print(result)\n",
    "\n",
    "# Matrix multiplication between NumPy array and PyTorch tensor\n",
    "numpy_array = np.array([[1, 2], [3, 4]])\n",
    "tensor_from_numpy = torch.tensor(numpy_array)\n",
    "result = np.matmul(numpy_array, tensor_from_numpy.numpy())  # Convert tensor to a numpy array for matrix multiplication\n",
    "print(\"\\nMatrix multiplication:\")\n",
    "print(result)\n"
   ]
  },
  {
   "cell_type": "markdown",
   "metadata": {},
   "source": [
    "Certainly! Here are a few additional points to consider when working with NumPy arrays and PyTorch tensors:\n",
    "\n",
    "### Device Management\n",
    "\n",
    "PyTorch tensors can be moved between CPU and GPU devices using the `.to()` method. It's essential to ensure that tensors are placed on the appropriate device for computation, especially when working with GPUs for accelerated processing.\n",
    "\n",
    "```python\n",
    "# Move PyTorch tensor to GPU if available\n",
    "device = torch.device(\"cuda\" if torch.cuda.is_available() else \"cpu\")\n",
    "tensor_gpu = tensor_from_numpy.to(device)\n",
    "```\n",
    "\n",
    "### Data Type Conversion\n",
    "\n",
    "PyTorch tensors support various data types, similar to NumPy arrays. It's essential to specify the appropriate data type when creating tensors or performing operations to ensure numerical stability and efficient memory usage.\n",
    "\n",
    "```python\n",
    "# Specify data type when creating PyTorch tensor\n",
    "tensor_float32 = torch.tensor([1, 2, 3], dtype=torch.float32)\n",
    "tensor_int64 = torch.tensor([1, 2, 3], dtype=torch.int64)\n",
    "```\n",
    "\n",
    "### In-place Operations\n",
    "\n",
    "PyTorch tensors support in-place operations, denoted by operations suffixed with an underscore (`_`). These operations modify the tensor's values in place, saving memory and computation overhead compared to creating a new tensor.\n",
    "\n",
    "```python\n",
    "# In-place addition\n",
    "tensor_a = torch.tensor([1, 2, 3])\n",
    "tensor_a.add_(5)\n",
    "```\n",
    "\n",
    "### Reshaping and Resizing\n",
    "\n",
    "PyTorch tensors provide methods for reshaping and resizing tensors, allowing you to change their dimensions and sizes as needed for different operations or network architectures.\n",
    "\n",
    "```python\n",
    "# Reshape PyTorch tensor\n",
    "tensor_original = torch.tensor([[1, 2, 3], [4, 5, 6]])\n",
    "tensor_reshaped = tensor_original.view(3, 2)\n",
    "\n",
    "# Resize PyTorch tensor (in-place)\n",
    "tensor_original.resize_(3, 2)\n",
    "```\n",
    "\n",
    "### Broadcasting Rules\n",
    "\n",
    "Understanding broadcasting rules is essential when performing element-wise operations between tensors with different shapes. PyTorch follows NumPy's broadcasting rules, allowing for operations between tensors of compatible shapes.\n",
    "\n",
    "```python\n",
    "# Broadcasting example\n",
    "tensor_a = torch.tensor([[1, 2], [3, 4]])\n",
    "scalar = 2\n",
    "tensor_broadcasted = tensor_a + scalar\n",
    "```\n",
    "\n",
    "### Error Handling\n",
    "\n",
    "PyTorch provides informative error messages that can help diagnose and resolve issues quickly. Pay attention to error messages, as they often provide valuable insights into what went wrong and how to fix it.\n",
    "\n",
    "```python\n",
    "# Example of a common error\n",
    "tensor_a = torch.tensor([1, 2, 3])\n",
    "tensor_b = torch.tensor([1, 2, 3, 4])\n",
    "result = tensor_a + tensor_b  # This will raise a RuntimeError due to incompatible shapes\n",
    "```\n",
    "\n",
    "### Conclusion\n",
    "\n",
    "By considering these additional points, you'll be better equipped to work effectively with NumPy arrays and PyTorch tensors in your deep learning projects. Continuously experiment with different operations and techniques to deepen your understanding and proficiency."
   ]
  },
  {
   "cell_type": "markdown",
   "metadata": {},
   "source": [
    "### Conclusion\n",
    "\n",
    "Working with NumPy arrays and PyTorch tensors together enables seamless integration of PyTorch into existing workflows and facilitates data manipulation and preprocessing. By mastering the conversion techniques and understanding how to perform operations between the two, you can leverage the strengths of both libraries effectively in your deep learning projects. Experiment with these concepts and explore their applications to gain proficiency."
   ]
  }
 ],
 "metadata": {
  "kernelspec": {
   "display_name": "deepRL",
   "language": "python",
   "name": "python3"
  },
  "language_info": {
   "codemirror_mode": {
    "name": "ipython",
    "version": 3
   },
   "file_extension": ".py",
   "mimetype": "text/x-python",
   "name": "python",
   "nbconvert_exporter": "python",
   "pygments_lexer": "ipython3",
   "version": "3.9.18"
  }
 },
 "nbformat": 4,
 "nbformat_minor": 2
}
