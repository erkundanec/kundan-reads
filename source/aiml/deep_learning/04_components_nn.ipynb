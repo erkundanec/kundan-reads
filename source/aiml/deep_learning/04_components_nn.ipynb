{
 "cells": [
  {
   "cell_type": "markdown",
   "metadata": {},
   "source": [
    "# Components of a neural network"
   ]
  },
  {
   "cell_type": "markdown",
   "metadata": {},
   "source": [
    "Understanding the components of a neural network is essential for effectively designing, training, and deploying neural network models. A neural network consists of several key components, each playing a crucial role in the overall functionality of the network. In this tutorial, we'll discuss the main components of a neural network and their roles."
   ]
  },
  {
   "cell_type": "markdown",
   "metadata": {},
   "source": [
    "### 1. Neurons (or Nodes)\n",
    "\n",
    "Neurons are the basic building blocks of a neural network. Each neuron receives input signals, performs a computation, and produces an output signal. Neurons are organized into layers within the neural network."
   ]
  },
  {
   "cell_type": "markdown",
   "metadata": {},
   "source": [
    "### 2. Layers\n",
    "\n",
    "Layers are groups of neurons arranged in a specific topology. The three main types of layers in a neural network are:"
   ]
  },
  {
   "cell_type": "markdown",
   "metadata": {},
   "source": [
    "#### a. Input Layer\n",
    "\n",
    "The input layer receives input data and passes it to the subsequent layers. The number of neurons in the input layer corresponds to the number of input features."
   ]
  },
  {
   "cell_type": "markdown",
   "metadata": {},
   "source": [
    "#### b. Hidden Layers\n",
    "\n",
    "Hidden layers are layers between the input and output layers where the actual computation occurs. Each neuron in a hidden layer receives input from the previous layer, performs a computation (often a weighted sum followed by an activation function), and passes the result to the next layer."
   ]
  },
  {
   "cell_type": "markdown",
   "metadata": {},
   "source": [
    "#### c. Output Layer\n",
    "\n",
    "The output layer produces the final output of the neural network. The number of neurons in the output layer depends on the task the neural network is designed to solve (e.g., classification, regression)."
   ]
  },
  {
   "cell_type": "markdown",
   "metadata": {},
   "source": [
    "### 3. Weights and Biases\n",
    "\n",
    "Weights and biases are parameters of the neural network that are learned during the training process. \n",
    "\n",
    "- **Weights**: Each connection between neurons in adjacent layers is associated with a weight. These weights determine the strength of the connection and are adjusted during training to minimize the error.\n",
    "  \n",
    "- **Biases**: Each neuron (except for those in the input layer) has an associated bias term. Bias allows the model to learn the offset from zero, enabling more flexibility in modeling complex relationships."
   ]
  },
  {
   "cell_type": "markdown",
   "metadata": {},
   "source": [
    "### 4. Activation Functions\n",
    "\n",
    "Activation functions introduce non-linearity to the output of neurons. They are applied to the weighted sum of inputs plus the bias before passing the result to the next layer. Common activation functions include:"
   ]
  },
  {
   "cell_type": "markdown",
   "metadata": {},
   "source": [
    "- **ReLU (Rectified Linear Unit)**:\n",
    "$$ f(x) = \\max(0, x) $$\n",
    "- **Sigmoid**: \n",
    "$$ f(x) = \\frac{1}{1 + e^{-x}} $$\n",
    "- **Tanh**: \n",
    "$$ f(x) = \\frac{e^x - e^{-x}}{e^x + e^{-x}} $$"
   ]
  },
  {
   "cell_type": "markdown",
   "metadata": {},
   "source": [
    "### 5. Loss Function\n",
    "\n",
    "The loss function measures the difference between the predicted output of the neural network and the actual target output. It quantifies how well the model is performing on the training data. Common loss functions include:\n",
    "\n",
    "- **Mean Squared Error (MSE)**: \n",
    "$$ \\frac{1}{n} \\sum_{i=1}^{n} (y_i - \\hat{y}_i)^2 $$\n",
    "- **Cross-Entropy Loss**: \n",
    "$$ -\\sum_{i=1}^{n} y_i \\log(\\hat{y}_i) $$\n",
    "\n",
    "### 6. Optimization Algorithm\n",
    "\n",
    "The optimization algorithm updates the weights and biases of the neural network to minimize the loss function. Common optimization algorithms include:\n",
    "\n",
    "- **Gradient Descent**: Updates weights in the opposite direction of the gradient of the loss function with respect to the weights.\n",
    "- **Adam**: An adaptive learning rate optimization algorithm that combines the benefits of both AdaGrad and RMSProp.\n",
    "\n",
    "### 7. Learning Rate\n",
    "\n",
    "The learning rate controls the step size of parameter updates during training. It is a hyperparameter that needs to be tuned to balance between training speed and convergence stability.\n",
    "\n",
    "### Conclusion\n",
    "\n",
    "Understanding the components of a neural network is crucial for effectively designing, training, and deploying neural network models. By grasping the roles of neurons, layers, weights, biases, activation functions, loss functions, optimization algorithms, and learning rate, you'll be well-equipped to build and train neural networks for various machine learning tasks. Experimentation and hands-on practice are key to mastering these concepts."
   ]
  }
 ],
 "metadata": {
  "language_info": {
   "name": "python"
  }
 },
 "nbformat": 4,
 "nbformat_minor": 2
}
