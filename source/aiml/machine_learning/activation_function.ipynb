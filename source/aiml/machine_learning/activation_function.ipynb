{
 "cells": [
  {
   "cell_type": "markdown",
   "metadata": {},
   "source": [
    "# Activation Function"
   ]
  },
  {
   "cell_type": "markdown",
   "metadata": {},
   "source": [
    "## What is an Activation Function?\n",
    "\n",
    "Biological neural networks inspired the development of artificial neural networks (ANNs). While ANNs are not an exact representation of how the brain works, understanding the relevance of an activation function in a biological neural network provides context for its use in artificial neural networks.\n",
    "\n",
    "A typical neuron in a biological neural network has a physical structure consisting of a cell body, an axon that sends messages to other neurons, and dendrites that receive signals or information from other neurons.\n",
    "\n",
    "![Biological neural network](../../img/AF005.jpg)\n",
    "*Figure 1: Biological neural network*"
   ]
  },
  {
   "cell_type": "markdown",
   "metadata": {},
   "source": [
    "In Figure 1, the red circle indicates the region where two neurons communicate. The neuron receives signals from other neurons through the dendrites. The strength of the incoming signal is multiplied by the synaptic weights associated with a dendrite. These signals are accumulated in the cell body. If the strength of the resulting signal is above a certain threshold, the neuron passes the message to the axon. Otherwise, the signal is terminated by the neuron and does not propagate further.\n",
    "\n",
    "The activation function plays a crucial role in deciding whether to pass a signal. In the case of a biological neural network, a simple step function with a threshold determines this decision. When learning or unlearning occurs, the threshold and synaptic weights of some neurons change, creating new connections among neurons and allowing the brain to learn new things."
   ]
  },
  {
   "cell_type": "markdown",
   "metadata": {},
   "source": [
    "Now, let's explore the same concept using an artificial neuron.\n",
    "\n",
    "![Artificial neural network](../../img/AN006.jpg)\n",
    "*Figure 2: Artificial neural network*\n",
    "\n",
    "In Figure 2, $(x_1, \\cdots , x_n)$ is the signal vector multiplied by the weights $(w_1, w_2, \\cdots, w_n)$. This is followed by accumulation (summation + addition of bias $b$). Finally, an activation function $f$ is applied to this sum.\n",
    "\n",
    "Note that the weights $(w_1, w_2, \\cdots, w_n)$ and the bias $b$ transform the input signal linearly. The activation function $f$, however, transforms the signal non-linearly, allowing the neural network to learn arbitrarily complex transformations between the input and the output.\n",
    "\n",
    "Over the years, various functions have been used, and finding a proper activation function that enhances neural network learning remains an active area of research."
   ]
  },
  {
   "cell_type": "markdown",
   "metadata": {},
   "source": [
    "## How does the network learn?\n",
    "\n",
    "Understanding how a neural network learns is essential. Let's assume the desired output is $y$, and the network produces an output $y'$. The difference between the predicted and desired output $(y - y')$ is converted into a metric known as the loss function $J$. The loss is high when the neural network makes many mistakes and low when it makes fewer mistakes. The goal of the training process is to find weights and biases that minimize the loss function over the training set.\n",
    "\n",
    "In Figure 3, the loss function is shaped like a bowl. At any point in the training process, the partial derivatives of the loss function with respect to the weights are equivalent to the slope of the bowl at that location. By moving in the direction predicted by the partial derivatives, we can reach the bottom of the bowl and minimize the loss function. This idea is called **gradient descent**.\n",
    "\n",
    "![Gradient Descent Surface](../../img/AN007.png)\n",
    "*Figure 3: Gradient Descent Surface*"
   ]
  },
  {
   "cell_type": "markdown",
   "metadata": {},
   "source": [
    "In artificial neural networks, weights are updated using a method called backpropagation. The partial derivatives of the loss function with respect to the weights are used for weight updates. The error is backpropagated in the network using derivatives in an iterative manner. After many iterations, the loss reaches a minimum value, and the derivative of the loss becomes zero.\n",
    "\n",
    "## Types of Activation Functions\n",
    "\n",
    "### Linear Activation Function\n",
    "\n",
    "The linear activation function is a simple linear function of the form $f(x) = x$. In essence, the input passes to the output without any modification.\n",
    "\n",
    "![Linear Activation Function](../../img/AN008.png)\n",
    "\n",
    "### Non-Linear Activation Functions\n",
    "\n",
    "Non-linear activation functions are employed to handle data that is not linearly separable, and they are among the most commonly used activation functions. A non-linear equation dictates the mapping from inputs to outputs. Examples of various non-linear activation functions include:\n",
    "\n",
    "- Sigmoid\n",
    "- Tanh\n",
    "- ReLU\n",
    "- Leaky ReLU\n",
    "- Parametric ReLU\n",
    "- Swish, etc.\n",
    "\n",
    "All these activation functions will be discussed in detail.\n",
    "\n",
    "![Non-Linear Activation Function](../../img/AN009.png)\n",
    "\n",
    "### Why do we need a Non-linear AF?\n",
    "\n",
    "Neural networks are designed to implement complex functions, and non-linear activation functions empower them to approximate arbitrarily complex functions. Without the non-linearity introduced by the activation function, multiple layers of a neural network are equivalent to a single-layer neural network.\n",
    "\n",
    "Let's consider a simple example to illustrate why non-linearity is essential. The XOR gate is a classic example. In the graphical representation of the XOR gate shown in Figure XOR Problem, two classes are represented by a cross and a circle. The output is 0 for identical features $X_1$ and $X_2$ (red crosses for (0,0) and (1,1)), and the output is 1 for different features (blue circles for (0,1) and (1,0)).\n",
    "\n",
    "![XOR Problem](../../img/AN010.png)\n",
    "\n",
    "As seen in the XOR example, the data points are not linearly separable. In other words, a straight line cannot be drawn to separate the blue circles from the red crosses. Therefore, a non-linear decision boundary is needed.\n",
    "\n",
    "The activation function is crucial for constraining the output of the neural network within certain bounds. The output of a neuron $\\sum^n_i w_i x_i + b$ can potentially take on very large values. If this output is fed to the next layer neuron without modification, it can result in even larger numbers, making the computational process intractable. One of the tasks of the activation function is to map the output of a neuron to a bounded range (e.g., between 0 and 1)."
   ]
  },
  {
   "cell_type": "markdown",
   "metadata": {},
   "source": [
    "With this background, we are ready to delve into different types of activation functions.\n",
    "\n",
    "## Types of Non-Linear Activation Functions"
   ]
  },
  {
   "cell_type": "code",
   "execution_count": 1,
   "metadata": {},
   "outputs": [],
   "source": [
    "import matplotlib as mpl\n",
    "from matplotlib import pyplot as plt\n",
    "\n",
    "# #======= set default plotting properties =======\n",
    "# mpl.rcParams['lines.linewidth'] = 1\n",
    "# mpl.rcParams['font.size'] = 16\n",
    "# mpl.rcParams['font.family'] = 'serif'\n",
    "# mpl.rcParams['font.sans-serif'] = 'Computer Modern Roman'\n",
    "# mpl.rcParams['lines.color'] = 'b'\n",
    "# plt.rcParams['figure.figsize'] = 7, 4.5 # default figure size"
   ]
  },
  {
   "cell_type": "markdown",
   "metadata": {},
   "source": [
    "### Binary step function"
   ]
  },
  {
   "cell_type": "code",
   "execution_count": 2,
   "metadata": {},
   "outputs": [
    {
     "data": {
      "text/plain": [
       "(-8.799499999999982, 8.789499999999641, -0.05, 1.05)"
      ]
     },
     "execution_count": 2,
     "metadata": {},
     "output_type": "execute_result"
    },
    {
     "data": {
      "image/png": "[encoded data removed]",
      "text/plain": [
       "<Figure size 700x400 with 1 Axes>"
      ]
     },
     "metadata": {},
     "output_type": "display_data"
    }
   ],
   "source": [
    "import matplotlib.pyplot as plt\n",
    "import numpy as np\n",
    "\n",
    "def step(x):\n",
    "    length = len(x)\n",
    "    t = x.copy()\n",
    "    ds = x.copy()\n",
    "    for i in np.arange(length):\n",
    "        if x[i]<0:\n",
    "            t[i] = 0\n",
    "            ds[i] = 0\n",
    "        else:\n",
    "            t[i] = 1\n",
    "            ds[i] = 0 \n",
    "    return t,ds\n",
    "\n",
    "x=np.arange(-8,8,0.01)\n",
    "# step(x)\n",
    "# Setup centered axes\n",
    "fig, ax = plt.subplots(figsize=(7, 4))\n",
    "# plt.rc('text', usetex=True)\n",
    "plt.rc('font', family='serif')\n",
    "\n",
    "ax.spines['left'].set_position('center')\n",
    "# ax.spines['bottom'].set_position('zero')\n",
    "ax.spines['right'].set_color('none')\n",
    "ax.spines['top'].set_color('none')\n",
    "ax.xaxis.set_ticks_position('bottom')\n",
    "ax.yaxis.set_ticks_position('left')\n",
    "# Create and show plot\n",
    "ax.plot(x,step(x)[0], linewidth=2, label=\"binary step\")\n",
    "ax.plot(x,step(x)[1],  linewidth=2, label=\"derivative\")\n",
    "plt.xlim([-8, +8])\n",
    "plt.ylim([-0.5, 1.1])\n",
    "# plt.text(-8, 0.8, r'$f(z)=\\frac{e^{z}-e^{-z}}{e^{z}+e^{-z}}$',fontsize=20)\n",
    "plt.text(2.5, 0.45, r'$f(z) = 1~~~if~ z\\geq 0$',fontsize=20)\n",
    "plt.text(4.3, 0.32, r'$=0~~~{otherwise}$',fontsize=20)\n",
    "plt.text(2.5, 0.12, r'$f^\\prime(z) = 0,~~{for}~all~z$',fontsize=20)\n",
    "\n",
    "plt.ylabel(r'$f(z)$',horizontalalignment='right',y=1.0)\n",
    "plt.xlabel(r'$z$',horizontalalignment='right',x=1)\n",
    "ax.legend(loc=\"upper right\", frameon=False)\n",
    "plt.axis('tight')\n",
    "# plt.savefig('BinaryStep.pdf')"
   ]
  },
  {
   "cell_type": "markdown",
   "metadata": {},
   "source": [
    "$$ x = 5$$"
   ]
  },
  {
   "cell_type": "markdown",
   "metadata": {},
   "source": [
    "\n",
    "\n",
    "\n",
    "\n",
    "### Sigmoid function\n",
    "\n",
    "It is also known as the Logistic Activation Function. The sigmoid function squashes a real-valued number into a range between 0 and 1, commonly used in the output layer for predicting probabilities. Mathematically, it is represented as:\n",
    "\n",
    "$f(x) = \\text{sigmoid}(x) = \\frac{1}{1 + e^{-x}}$\n",
    "\n",
    "The sigmoid function, though widely used in machine learning introductory materials, has drawbacks~[1]. Its derivative, denoted as $f'(x)$, is given by $f(x)(1 - f(x))$. Despite its ease of calculation, the sigmoid function can cause the network to lose knowledge during training due to the vanishing gradient problem.\n",
    "\n",
    "![Sigmoid function and its derivative](../../img/AF001.png)\n",
    "\n",
    "The three major drawbacks of sigmoid are:\n",
    "\n",
    "- **Vanishing gradients:** The sigmoid function is flat near 0 and 1, leading to gradients near 0 during backpropagation. This results in the vanishing gradient problem.\n",
    "- **Not zero-centered:** Sigmoid outputs are not zero-centered.\n",
    "- **Computationally expensive:** The $\\exp()$ function is computationally expensive compared to other non-linear activation functions.\n",
    "\n",
    "### Tanh Activation Function\n",
    "\n",
    "The tanh activation function addresses the zero-centered problem in sigmoid. It is also known as the hyperbolic tangent activation function. Tanh squashes a real-valued number into a range between -1 and 1. Unlike sigmoid, tanh outputs are zero-centered. Mathematically, it is represented as:\n",
    "\n",
    "$f(x) = \\tanh(x)$\n",
    "\n",
    "The tanh function suffers from the vanishing gradient problem similar to sigmoid.\n",
    "\n",
    "![Tanh activation function and its derivative](../../img/AN011.png)\n",
    "\n",
    "To address the vanishing gradient problem, the rectified linear unit (ReLU) is a widely used non-linear activation function and is discussed next.\n",
    "\n",
    "### Rectified Linear Units (ReLU)\n",
    "\n",
    "Instead of sigmoids and tanh, most recent deep learning networks use rectified linear units (ReLUs) for the hidden layers. A rectified linear unit has an output of 0 if the input is less than 0 and the raw output otherwise. Mathematically, it is given by the expression:\n",
    "\n",
    "$$f(x) = \\max(x, 0)$$\n",
    "\n",
    "ReLU activations are simple and efficient, and their machinery is more akin to a real neuron in the human body. The derivative of ReLU is straightforward; when the input is positive, the derivative is $1$, avoiding the vanishing gradient problem seen in the sigmoid function.\n",
    "\n",
    "![ReLU activation function and its derivative](../../img/AF013.png)\n",
    "\n",
    "ReLU makes the network converge faster and is computationally efficient due to simple thresholding. However, it has some drawbacks:\n",
    "\n",
    "- **Not zero-centered:** Outputs are not zero-centered, similar to the sigmoid activation function.\n",
    "- **Potential neuron death:** ReLU units can become inactive (dead) during training, causing the gradient to be $0$.\n",
    "\n",
    "Research has shown that ReLUs result in faster training for large networks, but they can be fragile, leading to the \"dying ReLU\" problem. To address the vanishing gradient issue, Leaky ReLU was introduced.\n",
    "\n",
    "### Leaky ReLU\n",
    "\n",
    "Leaky ReLU attempts to mitigate the dying ReLU problem by introducing a small positive slope for \\(x < 0\\). The function is defined as:\n",
    "\n",
    "$$f(x) = \\max(0.1x, x)$$\n",
    "\n",
    "While leaky ReLU somewhat resolves the dying ReLU problem, it has inconsistencies. An extension to leaky ReLU is Parametric ReLU.\n",
    "\n",
    "### Parametric ReLU\n",
    "\n",
    "Parametric ReLU (PReLU) introduces a hyperparameter \\(\\alpha\\), making the slope in the negative region learnable. The function is given by:\n",
    "\n",
    "$$f(x) = \\max(\\alpha, x)$$\n",
    "\n",
    "The arbitrary hyperparameter \\(\\alpha\\) is learned during backpropagation, allowing neurons to choose the best slope in the negative region.\n",
    "\n",
    "### SWISH\n",
    "\n",
    "SWISH, also known as a self-gated activation function, was recently introduced by researchers at Google. Mathematically, it is represented as:\n",
    "\n",
    "$$\\sigma(x) = \\frac{x}{1 + e^{-x}}$$\n",
    "\n",
    "According to the paper, the SWISH activation function performs better than ReLU.\n",
    "\n",
    "![SWISH activation function](../../img/AF015.png)\n",
    "\n",
    "\n",
    "## Softmax\n",
    "\n",
    "While the sigmoid function is suitable for binary classification problems, it is not well-suited for handling multiple classes. For classification problems involving more than two classes, the softmax function is commonly used.\n",
    "\n",
    "![Softmax calculation](../../img/AF002.png)\n",
    "\n",
    "The softmax function squashes the outputs of each unit to be between 0 and 1, similar to the sigmoid function. However, it also normalizes the outputs by dividing each output by the sum of all outputs, ensuring that the total sum is equal to 1. This normalization produces a probability distribution over the classes.\n",
    "\n",
    "Mathematically, the softmax function is defined as follows, where $z$ is a vector of inputs to the output layer, and $j$ indexes the output units:\n",
    "\n",
    "$$\\sigma(z_j) = \\frac{e^{z_j}}{\\sum_{k=1}^{K}e^{z_k}}$$\n",
    "\n",
    "Consider a scenario where a neural network is trained to recognize and classify handwritten digits from images, with ten output units corresponding to digits 0 to 9. If the network is fed an image of the digit 4, the output unit corresponding to digit 4 would be activated.\n",
    "\n",
    "![Digit four from MNIST dataset](../../img/AF003.png)\n",
    "\n",
    "The softmax function is crucial for scenarios with multiple classes. In the example of digit recognition, the softmax output for an image of the digit 4 might look like the following:\n",
    "\n",
    "![Softmax output for digit four](../../img/AF004.png)\n",
    "\n",
    "The softmax function provides a probability distribution, indicating the likelihood of each class. In this case, there is a high probability of being digit 4, but there are also non-zero probabilities for other digits, reflecting some similarity.\n",
    "\n",
    "Softmax is widely used in classification tasks with multiple classes, such as object recognition in computer vision, where there are numerous possible objects.\n",
    "\n",
    "\n",
    "\n"
   ]
  }
 ],
 "metadata": {
  "kernelspec": {
   "display_name": "py312",
   "language": "python",
   "name": "python3"
  },
  "language_info": {
   "codemirror_mode": {
    "name": "ipython",
    "version": 3
   },
   "file_extension": ".py",
   "mimetype": "text/x-python",
   "name": "python",
   "nbconvert_exporter": "python",
   "pygments_lexer": "ipython3",
   "version": "3.12.1"
  }
 },
 "nbformat": 4,
 "nbformat_minor": 2
}
