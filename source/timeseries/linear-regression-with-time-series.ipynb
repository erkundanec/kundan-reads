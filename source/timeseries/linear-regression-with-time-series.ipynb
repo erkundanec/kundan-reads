{
 "cells": [
  {
   "cell_type": "markdown",
   "id": "broke-bosnia",
   "metadata": {
    "papermill": {
     "duration": 0.009922,
     "end_time": "2023-04-20T18:06:09.778449",
     "exception": false,
     "start_time": "2023-04-20T18:06:09.768527",
     "status": "completed"
    },
    "tags": []
   },
   "source": [
    "# Welcome to Time Series! #\n",
    "\n",
    "**Forecasting** is perhaps the most common application of machine learning in the real world. Businesses forecast product demand, governments forecast economic and population growth, meteorologists forecast the weather. The understanding of things to come is a pressing need across science, government, and industry (not to mention our personal lives!), and practitioners in these fields are increasingly applying machine learning to address this need.\n",
    "\n",
    "Time series forecasting is a broad field with a long history. This course focuses on the application of modern machine learning methods to time series data with the goal of producing the most accurate predictions. The lessons in this course were inspired by winning solutions from past Kaggle forecasting competitions but will be applicable whenever accurate forecasts are a priority.\n",
    "\n",
    "After finishing this course, you'll know how to:\n",
    "- engineer features to model the major time series components (*trends*, *seasons*, and *cycles*),\n",
    "- visualize time series with many kinds of *time series plots*,\n",
    "- create forecasting *hybrids* that combine the strengths of complementary models, and\n",
    "- adapt machine learning methods to a variety of forecasting tasks.\n",
    "\n",
    "As part of the exercises, you'll get a chance to participate in our [Store Sales - Time Series Forecasting](https://www.kaggle.com/c/29781) Getting Started competition. In this competition, you're tasked with forecasting sales for *Corporación Favorita* (a large Ecuadorian-based grocery retailer) in almost 1800 product categories.\n",
    "\n",
    "# What is a Time Series? #\n",
    "\n",
    "The basic object of forecasting is the **time series**, which is a set of observations recorded over time. In forecasting applications, the observations are typically recorded with a regular frequency, like daily or monthly."
   ]
  },
  {
   "cell_type": "code",
   "execution_count": 8,
   "id": "respected-metropolitan",
   "metadata": {
    "_kg_hide-input": true,
    "execution": {
     "iopub.execute_input": "2023-04-20T18:06:09.798956Z",
     "iopub.status.busy": "2023-04-20T18:06:09.797968Z",
     "iopub.status.idle": "2023-04-20T18:06:09.866248Z",
     "shell.execute_reply": "2023-04-20T18:06:09.864772Z"
    },
    "papermill": {
     "duration": 0.08326,
     "end_time": "2023-04-20T18:06:09.869829",
     "exception": false,
     "start_time": "2023-04-20T18:06:09.786569",
     "status": "completed"
    },
    "tags": []
   },
   "outputs": [
    {
     "data": {
      "text/html": [
       "<div>\n",
       "<style scoped>\n",
       "    .dataframe tbody tr th:only-of-type {\n",
       "        vertical-align: middle;\n",
       "    }\n",
       "\n",
       "    .dataframe tbody tr th {\n",
       "        vertical-align: top;\n",
       "    }\n",
       "\n",
       "    .dataframe thead th {\n",
       "        text-align: right;\n",
       "    }\n",
       "</style>\n",
       "<table border=\"1\" class=\"dataframe\">\n",
       "  <thead>\n",
       "    <tr style=\"text-align: right;\">\n",
       "      <th></th>\n",
       "      <th>Hardcover</th>\n",
       "    </tr>\n",
       "    <tr>\n",
       "      <th>Date</th>\n",
       "      <th></th>\n",
       "    </tr>\n",
       "  </thead>\n",
       "  <tbody>\n",
       "    <tr>\n",
       "      <th>2000-04-01</th>\n",
       "      <td>139</td>\n",
       "    </tr>\n",
       "    <tr>\n",
       "      <th>2000-04-02</th>\n",
       "      <td>128</td>\n",
       "    </tr>\n",
       "  </tbody>\n",
       "</table>\n",
       "</div>"
      ],
      "text/plain": [
       "            Hardcover\n",
       "Date                 \n",
       "2000-04-01        139\n",
       "2000-04-02        128"
      ]
     },
     "execution_count": 8,
     "metadata": {},
     "output_type": "execute_result"
    }
   ],
   "source": [
    "import pandas as pd\n",
    "\n",
    "df = pd.read_csv(\"data/book_sales.csv\",index_col='Date',parse_dates=['Date'])\n",
    "df = df.drop('Paperback', axis=1)\n",
    "df.head(2)"
   ]
  },
  {
   "cell_type": "markdown",
   "id": "invisible-aging",
   "metadata": {
    "papermill": {
     "duration": 0.006654,
     "end_time": "2023-04-20T18:06:09.882927",
     "exception": false,
     "start_time": "2023-04-20T18:06:09.876273",
     "status": "completed"
    },
    "tags": []
   },
   "source": [
    "This series records the number of hardcover book sales at a retail store over 30 days. Notice that we have a single column of observations `Hardcover` with a time index `Date`.\n",
    "\n",
    "# Linear Regression with Time Series #\n",
    "\n",
    "For the first part of this course, we'll use the linear regression algorithm to construct forecasting models. Linear regression is widely used in practice and adapts naturally to even complex forecasting tasks.\n",
    "\n",
    "The **linear regression** algorithm learns how to make a weighted sum from its input features. For two features, we would have:\n",
    "\n",
    "```\n",
    "target = weight_1 * feature_1 + weight_2 * feature_2 + bias\n",
    "```\n",
    "\n",
    "During training, the regression algorithm learns values for the parameters `weight_1`, `weight_2`, and `bias` that best fit the `target`. (This algorithm is often called *ordinary least squares* since it chooses values that minimize the squared error between the target and the predictions.) The weights are also called *regression coefficients* and the `bias` is also called the *intercept* because it tells you where the graph of this function crosses the y-axis.\n",
    "\n",
    "### Time-step features\n",
    "\n",
    "There are two kinds of features unique to time series: time-step features and lag features.\n",
    "\n",
    "Time-step features are features we can derive directly from the time index. The most basic time-step feature is the **time dummy**, which counts off time steps in the series from beginning to end."
   ]
  },
  {
   "cell_type": "code",
   "execution_count": 9,
   "id": "numeric-fairy",
   "metadata": {
    "_kg_hide-input": true,
    "execution": {
     "iopub.execute_input": "2023-04-20T18:06:09.901207Z",
     "iopub.status.busy": "2023-04-20T18:06:09.899852Z",
     "iopub.status.idle": "2023-04-20T18:06:09.930209Z",
     "shell.execute_reply": "2023-04-20T18:06:09.928788Z"
    },
    "papermill": {
     "duration": 0.045835,
     "end_time": "2023-04-20T18:06:09.935458",
     "exception": false,
     "start_time": "2023-04-20T18:06:09.889623",
     "status": "completed"
    },
    "tags": []
   },
   "outputs": [
    {
     "data": {
      "text/html": [
       "<div>\n",
       "<style scoped>\n",
       "    .dataframe tbody tr th:only-of-type {\n",
       "        vertical-align: middle;\n",
       "    }\n",
       "\n",
       "    .dataframe tbody tr th {\n",
       "        vertical-align: top;\n",
       "    }\n",
       "\n",
       "    .dataframe thead th {\n",
       "        text-align: right;\n",
       "    }\n",
       "</style>\n",
       "<table border=\"1\" class=\"dataframe\">\n",
       "  <thead>\n",
       "    <tr style=\"text-align: right;\">\n",
       "      <th></th>\n",
       "      <th>Hardcover</th>\n",
       "      <th>Time</th>\n",
       "    </tr>\n",
       "    <tr>\n",
       "      <th>Date</th>\n",
       "      <th></th>\n",
       "      <th></th>\n",
       "    </tr>\n",
       "  </thead>\n",
       "  <tbody>\n",
       "    <tr>\n",
       "      <th>2000-04-01</th>\n",
       "      <td>139</td>\n",
       "      <td>0</td>\n",
       "    </tr>\n",
       "    <tr>\n",
       "      <th>2000-04-02</th>\n",
       "      <td>128</td>\n",
       "      <td>1</td>\n",
       "    </tr>\n",
       "    <tr>\n",
       "      <th>2000-04-03</th>\n",
       "      <td>172</td>\n",
       "      <td>2</td>\n",
       "    </tr>\n",
       "    <tr>\n",
       "      <th>2000-04-04</th>\n",
       "      <td>139</td>\n",
       "      <td>3</td>\n",
       "    </tr>\n",
       "    <tr>\n",
       "      <th>2000-04-05</th>\n",
       "      <td>191</td>\n",
       "      <td>4</td>\n",
       "    </tr>\n",
       "  </tbody>\n",
       "</table>\n",
       "</div>"
      ],
      "text/plain": [
       "            Hardcover  Time\n",
       "Date                       \n",
       "2000-04-01        139     0\n",
       "2000-04-02        128     1\n",
       "2000-04-03        172     2\n",
       "2000-04-04        139     3\n",
       "2000-04-05        191     4"
      ]
     },
     "execution_count": 9,
     "metadata": {},
     "output_type": "execute_result"
    }
   ],
   "source": [
    "import numpy as np\n",
    "\n",
    "df['Time'] = np.arange(len(df.index))\n",
    "\n",
    "df.head()"
   ]
  },
  {
   "cell_type": "markdown",
   "id": "ambient-conjunction",
   "metadata": {
    "papermill": {
     "duration": 0.008458,
     "end_time": "2023-04-20T18:06:09.953605",
     "exception": false,
     "start_time": "2023-04-20T18:06:09.945147",
     "status": "completed"
    },
    "tags": []
   },
   "source": [
    "Linear regression with the time dummy produces the model:\n",
    "\n",
    "```\n",
    "target = weight * time + bias\n",
    "```\n",
    "\n",
    "The time dummy then lets us fit curves to time series in a *time plot*, where `Time` forms the x-axis."
   ]
  },
  {
   "cell_type": "code",
   "execution_count": 17,
   "id": "novel-coordinator",
   "metadata": {
    "_kg_hide-input": true,
    "execution": {
     "iopub.execute_input": "2023-04-20T18:06:09.970151Z",
     "iopub.status.busy": "2023-04-20T18:06:09.968568Z",
     "iopub.status.idle": "2023-04-20T18:06:12.102461Z",
     "shell.execute_reply": "2023-04-20T18:06:12.101219Z"
    },
    "papermill": {
     "duration": 2.145999,
     "end_time": "2023-04-20T18:06:12.106241",
     "exception": false,
     "start_time": "2023-04-20T18:06:09.960242",
     "status": "completed"
    },
    "tags": []
   },
   "outputs": [
    {
     "data": {
      "image/png": "[encoded data removed]",
      "text/plain": [
       "<Figure size 1100x400 with 1 Axes>"
      ]
     },
     "metadata": {
      "image/png": {
       "height": 390,
       "width": 1089
      }
     },
     "output_type": "display_data"
    }
   ],
   "source": [
    "import matplotlib.pyplot as plt\n",
    "import seaborn as sns\n",
    "plt.style.use(\"seaborn-v0_8\")\n",
    "plt.rc(\n",
    "    \"figure\",\n",
    "    autolayout=True,\n",
    "    figsize=(11, 4),\n",
    "    titlesize=18,\n",
    "    titleweight='bold',\n",
    ")\n",
    "plt.rc(\n",
    "    \"axes\",\n",
    "    labelweight=\"bold\",\n",
    "    labelsize=\"large\",\n",
    "    titleweight=\"bold\",\n",
    "    titlesize=16,\n",
    "    titlepad=10,\n",
    ")\n",
    "%config InlineBackend.figure_format = 'retina'\n",
    "\n",
    "fig, ax = plt.subplots()\n",
    "ax.plot('Time', 'Hardcover', data=df, color='0.75')\n",
    "ax = sns.regplot(x='Time', y='Hardcover', data=df, ci=None, scatter_kws=dict(color='0.25'))\n",
    "ax.set_title('Time Plot of Hardcover Sales');"
   ]
  },
  {
   "cell_type": "markdown",
   "id": "caring-frequency",
   "metadata": {
    "papermill": {
     "duration": 0.009049,
     "end_time": "2023-04-20T18:06:12.124779",
     "exception": false,
     "start_time": "2023-04-20T18:06:12.115730",
     "status": "completed"
    },
    "tags": []
   },
   "source": [
    "Time-step features let you model **time dependence**. A series is time dependent if its values can be predicted from the time they occured. In the *Hardcover Sales* series, we can predict that sales later in the month are generally higher than sales earlier in the month.\n",
    "\n",
    "### Lag features\n",
    "\n",
    "To make a **lag feature** we shift the observations of the target series so that they appear to have occured later in time. Here we've created a 1-step lag feature, though shifting by multiple steps is possible too."
   ]
  },
  {
   "cell_type": "code",
   "execution_count": null,
   "id": "boolean-native",
   "metadata": {
    "_kg_hide-input": true,
    "execution": {
     "iopub.execute_input": "2023-04-20T18:06:12.145682Z",
     "iopub.status.busy": "2023-04-20T18:06:12.145133Z",
     "iopub.status.idle": "2023-04-20T18:06:12.162531Z",
     "shell.execute_reply": "2023-04-20T18:06:12.161109Z"
    },
    "papermill": {
     "duration": 0.03121,
     "end_time": "2023-04-20T18:06:12.165251",
     "exception": false,
     "start_time": "2023-04-20T18:06:12.134041",
     "status": "completed"
    },
    "tags": []
   },
   "outputs": [],
   "source": [
    "\n",
    "df['Lag_1'] = df['Hardcover'].shift(1)\n",
    "df = df.reindex(columns=['Hardcover', 'Lag_1'])\n",
    "\n",
    "df.head()"
   ]
  },
  {
   "cell_type": "markdown",
   "id": "everyday-botswana",
   "metadata": {
    "papermill": {
     "duration": 0.009119,
     "end_time": "2023-04-20T18:06:12.184151",
     "exception": false,
     "start_time": "2023-04-20T18:06:12.175032",
     "status": "completed"
    },
    "tags": []
   },
   "source": [
    "Linear regression with a lag feature produces the model:\n",
    "\n",
    "```\n",
    "target = weight * lag + bias\n",
    "```\n",
    "\n",
    "So lag features let us fit curves to *lag plots* where each observation in a series is plotted against the previous observation."
   ]
  },
  {
   "cell_type": "code",
   "execution_count": null,
   "id": "integral-victor",
   "metadata": {
    "_kg_hide-input": true,
    "execution": {
     "iopub.execute_input": "2023-04-20T18:06:12.205319Z",
     "iopub.status.busy": "2023-04-20T18:06:12.204809Z",
     "iopub.status.idle": "2023-04-20T18:06:12.708928Z",
     "shell.execute_reply": "2023-04-20T18:06:12.707466Z"
    },
    "papermill": {
     "duration": 0.518623,
     "end_time": "2023-04-20T18:06:12.712364",
     "exception": false,
     "start_time": "2023-04-20T18:06:12.193741",
     "status": "completed"
    },
    "tags": []
   },
   "outputs": [],
   "source": [
    "\n",
    "fig, ax = plt.subplots()\n",
    "ax = sns.regplot(x='Lag_1', y='Hardcover', data=df, ci=None, scatter_kws=dict(color='0.25'))\n",
    "ax.set_aspect('equal')\n",
    "ax.set_title('Lag Plot of Hardcover Sales');"
   ]
  },
  {
   "cell_type": "markdown",
   "id": "italian-window",
   "metadata": {
    "papermill": {
     "duration": 0.011333,
     "end_time": "2023-04-20T18:06:12.735080",
     "exception": false,
     "start_time": "2023-04-20T18:06:12.723747",
     "status": "completed"
    },
    "tags": []
   },
   "source": [
    "You can see from the lag plot that sales on one day (`Hardcover`) are correlated with sales from the previous day (`Lag_1`). When you see a relationship like this, you know a lag feature will be useful.\n",
    "\n",
    "More generally, lag features let you model **serial dependence**. A time series has serial dependence when an observation can be predicted from previous observations. In *Hardcover Sales*, we can predict that high sales on one day usually mean high sales the next day.\n",
    "\n",
    "---\n",
    "\n",
    "Adapting machine learning algorithms to time series problems is largely about feature engineering with the time index and lags. For most of the course, we use linear regression for its simplicity, but these features will be useful whichever algorithm you choose for your forecasting task.\n",
    "\n",
    "# Example - Tunnel Traffic #\n",
    "\n",
    "*Tunnel Traffic* is a time series describing the number of vehicles traveling through the Baregg Tunnel in Switzerland each day from November 2003 to November 2005. In this example, we'll get some practice applying linear regression to time-step features and lag features.\n",
    "\n",
    "The hidden cell sets everything up."
   ]
  },
  {
   "cell_type": "code",
   "execution_count": null,
   "id": "extra-assets",
   "metadata": {
    "_kg_hide-input": true,
    "execution": {
     "iopub.execute_input": "2023-04-20T18:06:12.759965Z",
     "iopub.status.busy": "2023-04-20T18:06:12.759192Z",
     "iopub.status.idle": "2023-04-20T18:06:12.799714Z",
     "shell.execute_reply": "2023-04-20T18:06:12.798638Z"
    },
    "papermill": {
     "duration": 0.056088,
     "end_time": "2023-04-20T18:06:12.802348",
     "exception": false,
     "start_time": "2023-04-20T18:06:12.746260",
     "status": "completed"
    },
    "tags": []
   },
   "outputs": [],
   "source": [
    "\n",
    "from pathlib import Path\n",
    "from warnings import simplefilter\n",
    "\n",
    "import matplotlib.pyplot as plt\n",
    "import numpy as np\n",
    "import pandas as pd\n",
    "\n",
    "simplefilter(\"ignore\")  # ignore warnings to clean up output cells\n",
    "\n",
    "# Set Matplotlib defaults\n",
    "plt.style.use(\"seaborn-whitegrid\")\n",
    "plt.rc(\"figure\", autolayout=True, figsize=(11, 4))\n",
    "plt.rc(\n",
    "    \"axes\",\n",
    "    labelweight=\"bold\",\n",
    "    labelsize=\"large\",\n",
    "    titleweight=\"bold\",\n",
    "    titlesize=14,\n",
    "    titlepad=10,\n",
    ")\n",
    "plot_params = dict(\n",
    "    color=\"0.75\",\n",
    "    style=\".-\",\n",
    "    markeredgecolor=\"0.25\",\n",
    "    markerfacecolor=\"0.25\",\n",
    "    legend=False,\n",
    ")\n",
    "%config InlineBackend.figure_format = 'retina'\n",
    "\n",
    "\n",
    "# Load Tunnel Traffic dataset\n",
    "data_dir = Path(\"../input/ts-course-data\")\n",
    "tunnel = pd.read_csv(data_dir / \"tunnel.csv\", parse_dates=[\"Day\"])\n",
    "\n",
    "# Create a time series in Pandas by setting the index to a date\n",
    "# column. We parsed \"Day\" as a date type by using `parse_dates` when\n",
    "# loading the data.\n",
    "tunnel = tunnel.set_index(\"Day\")\n",
    "\n",
    "# By default, Pandas creates a `DatetimeIndex` with dtype `Timestamp`\n",
    "# (equivalent to `np.datetime64`, representing a time series as a\n",
    "# sequence of measurements taken at single moments. A `PeriodIndex`,\n",
    "# on the other hand, represents a time series as a sequence of\n",
    "# quantities accumulated over periods of time. Periods are often\n",
    "# easier to work with, so that's what we'll use in this course.\n",
    "tunnel = tunnel.to_period()\n",
    "\n",
    "tunnel.head()"
   ]
  },
  {
   "cell_type": "markdown",
   "id": "lonely-valuation",
   "metadata": {
    "papermill": {
     "duration": 0.011739,
     "end_time": "2023-04-20T18:06:12.825825",
     "exception": false,
     "start_time": "2023-04-20T18:06:12.814086",
     "status": "completed"
    },
    "tags": []
   },
   "source": [
    "### Time-step feature\n",
    "\n",
    "Provided the time series doesn't have any missing dates, we can create a time dummy by counting out the length of the series."
   ]
  },
  {
   "cell_type": "code",
   "execution_count": null,
   "id": "indirect-label",
   "metadata": {
    "execution": {
     "iopub.execute_input": "2023-04-20T18:06:12.852600Z",
     "iopub.status.busy": "2023-04-20T18:06:12.851845Z",
     "iopub.status.idle": "2023-04-20T18:06:12.864503Z",
     "shell.execute_reply": "2023-04-20T18:06:12.863516Z"
    },
    "papermill": {
     "duration": 0.029227,
     "end_time": "2023-04-20T18:06:12.867264",
     "exception": false,
     "start_time": "2023-04-20T18:06:12.838037",
     "status": "completed"
    },
    "tags": []
   },
   "outputs": [],
   "source": [
    "df = tunnel.copy()\n",
    "\n",
    "df['Time'] = np.arange(len(tunnel.index))\n",
    "\n",
    "df.head()"
   ]
  },
  {
   "cell_type": "markdown",
   "id": "incorporated-fight",
   "metadata": {
    "papermill": {
     "duration": 0.012007,
     "end_time": "2023-04-20T18:06:12.890700",
     "exception": false,
     "start_time": "2023-04-20T18:06:12.878693",
     "status": "completed"
    },
    "tags": []
   },
   "source": [
    "The procedure for fitting a linear regression model follows the standard steps for scikit-learn."
   ]
  },
  {
   "cell_type": "code",
   "execution_count": null,
   "id": "medieval-endorsement",
   "metadata": {
    "execution": {
     "iopub.execute_input": "2023-04-20T18:06:12.916662Z",
     "iopub.status.busy": "2023-04-20T18:06:12.915894Z",
     "iopub.status.idle": "2023-04-20T18:06:13.283547Z",
     "shell.execute_reply": "2023-04-20T18:06:13.282015Z"
    },
    "papermill": {
     "duration": 0.384643,
     "end_time": "2023-04-20T18:06:13.286977",
     "exception": false,
     "start_time": "2023-04-20T18:06:12.902334",
     "status": "completed"
    },
    "tags": []
   },
   "outputs": [],
   "source": [
    "from sklearn.linear_model import LinearRegression\n",
    "\n",
    "# Training data\n",
    "X = df.loc[:, ['Time']]  # features\n",
    "y = df.loc[:, 'NumVehicles']  # target\n",
    "\n",
    "# Train the model\n",
    "model = LinearRegression()\n",
    "model.fit(X, y)\n",
    "\n",
    "# Store the fitted values as a time series with the same time index as\n",
    "# the training data\n",
    "y_pred = pd.Series(model.predict(X), index=X.index)"
   ]
  },
  {
   "cell_type": "markdown",
   "id": "brazilian-defense",
   "metadata": {
    "papermill": {
     "duration": 0.011286,
     "end_time": "2023-04-20T18:06:13.309484",
     "exception": false,
     "start_time": "2023-04-20T18:06:13.298198",
     "status": "completed"
    },
    "tags": []
   },
   "source": [
    "The model actually created is (approximately): `Vehicles = 22.5 * Time + 98176`. Plotting the fitted values over time shows us how fitting linear regression to the time dummy creates the trend line defined by this equation."
   ]
  },
  {
   "cell_type": "code",
   "execution_count": null,
   "id": "sophisticated-prediction",
   "metadata": {
    "_kg_hide-input": true,
    "execution": {
     "iopub.execute_input": "2023-04-20T18:06:13.336103Z",
     "iopub.status.busy": "2023-04-20T18:06:13.335137Z",
     "iopub.status.idle": "2023-04-20T18:06:14.120264Z",
     "shell.execute_reply": "2023-04-20T18:06:14.119180Z"
    },
    "papermill": {
     "duration": 0.805344,
     "end_time": "2023-04-20T18:06:14.126784",
     "exception": false,
     "start_time": "2023-04-20T18:06:13.321440",
     "status": "completed"
    },
    "tags": []
   },
   "outputs": [],
   "source": [
    "\n",
    "ax = y.plot(**plot_params)\n",
    "ax = y_pred.plot(ax=ax, linewidth=3)\n",
    "ax.set_title('Time Plot of Tunnel Traffic');"
   ]
  },
  {
   "cell_type": "markdown",
   "id": "expired-equipment",
   "metadata": {
    "papermill": {
     "duration": 0.015977,
     "end_time": "2023-04-20T18:06:14.159593",
     "exception": false,
     "start_time": "2023-04-20T18:06:14.143616",
     "status": "completed"
    },
    "tags": []
   },
   "source": [
    "### Lag feature\n",
    "\n",
    "Pandas provides us a simple method to lag a series, the `shift` method."
   ]
  },
  {
   "cell_type": "code",
   "execution_count": null,
   "id": "excessive-hormone",
   "metadata": {
    "execution": {
     "iopub.execute_input": "2023-04-20T18:06:14.194793Z",
     "iopub.status.busy": "2023-04-20T18:06:14.193867Z",
     "iopub.status.idle": "2023-04-20T18:06:14.209258Z",
     "shell.execute_reply": "2023-04-20T18:06:14.208087Z"
    },
    "papermill": {
     "duration": 0.036487,
     "end_time": "2023-04-20T18:06:14.212217",
     "exception": false,
     "start_time": "2023-04-20T18:06:14.175730",
     "status": "completed"
    },
    "tags": []
   },
   "outputs": [],
   "source": [
    "df['Lag_1'] = df['NumVehicles'].shift(1)\n",
    "df.head()"
   ]
  },
  {
   "cell_type": "markdown",
   "id": "varying-birthday",
   "metadata": {
    "papermill": {
     "duration": 0.015335,
     "end_time": "2023-04-20T18:06:14.243359",
     "exception": false,
     "start_time": "2023-04-20T18:06:14.228024",
     "status": "completed"
    },
    "tags": []
   },
   "source": [
    "When creating lag features, we need to decide what to do with the missing values produced. Filling them in is one option, maybe with 0.0 or \"backfilling\" with the first known value. Instead, we'll just drop the missing values, making sure to also drop values in the target from corresponding dates."
   ]
  },
  {
   "cell_type": "code",
   "execution_count": null,
   "id": "prostate-fruit",
   "metadata": {
    "execution": {
     "iopub.execute_input": "2023-04-20T18:06:14.277385Z",
     "iopub.status.busy": "2023-04-20T18:06:14.276526Z",
     "iopub.status.idle": "2023-04-20T18:06:14.297535Z",
     "shell.execute_reply": "2023-04-20T18:06:14.295992Z"
    },
    "papermill": {
     "duration": 0.042254,
     "end_time": "2023-04-20T18:06:14.301044",
     "exception": false,
     "start_time": "2023-04-20T18:06:14.258790",
     "status": "completed"
    },
    "tags": []
   },
   "outputs": [],
   "source": [
    "from sklearn.linear_model import LinearRegression\n",
    "\n",
    "X = df.loc[:, ['Lag_1']]\n",
    "X.dropna(inplace=True)  # drop missing values in the feature set\n",
    "y = df.loc[:, 'NumVehicles']  # create the target\n",
    "y, X = y.align(X, join='inner')  # drop corresponding values in target\n",
    "\n",
    "model = LinearRegression()\n",
    "model.fit(X, y)\n",
    "\n",
    "y_pred = pd.Series(model.predict(X), index=X.index)"
   ]
  },
  {
   "cell_type": "markdown",
   "id": "adult-artwork",
   "metadata": {
    "papermill": {
     "duration": 0.015659,
     "end_time": "2023-04-20T18:06:14.333425",
     "exception": false,
     "start_time": "2023-04-20T18:06:14.317766",
     "status": "completed"
    },
    "tags": []
   },
   "source": [
    "The lag plot shows us how well we were able to fit the relationship between the number of vehicles one day and the number the previous day."
   ]
  },
  {
   "cell_type": "code",
   "execution_count": null,
   "id": "unusual-pledge",
   "metadata": {
    "_kg_hide-input": true,
    "execution": {
     "iopub.execute_input": "2023-04-20T18:06:14.368800Z",
     "iopub.status.busy": "2023-04-20T18:06:14.367837Z",
     "iopub.status.idle": "2023-04-20T18:06:14.834697Z",
     "shell.execute_reply": "2023-04-20T18:06:14.832218Z"
    },
    "papermill": {
     "duration": 0.489327,
     "end_time": "2023-04-20T18:06:14.838109",
     "exception": false,
     "start_time": "2023-04-20T18:06:14.348782",
     "status": "completed"
    },
    "tags": []
   },
   "outputs": [],
   "source": [
    "\n",
    "fig, ax = plt.subplots()\n",
    "ax.plot(X['Lag_1'], y, '.', color='0.25')\n",
    "ax.plot(X['Lag_1'], y_pred)\n",
    "ax.set_aspect('equal')\n",
    "ax.set_ylabel('NumVehicles')\n",
    "ax.set_xlabel('Lag_1')\n",
    "ax.set_title('Lag Plot of Tunnel Traffic');"
   ]
  },
  {
   "cell_type": "markdown",
   "id": "comparable-karma",
   "metadata": {
    "papermill": {
     "duration": 0.021142,
     "end_time": "2023-04-20T18:06:14.877650",
     "exception": false,
     "start_time": "2023-04-20T18:06:14.856508",
     "status": "completed"
    },
    "tags": []
   },
   "source": [
    "What does this prediction from a lag feature mean about how well we can predict the series across time? The following time plot shows us how our forecasts now respond to the behavior of the series in the recent past."
   ]
  },
  {
   "cell_type": "code",
   "execution_count": null,
   "id": "established-aircraft",
   "metadata": {
    "_kg_hide-input": true,
    "execution": {
     "iopub.execute_input": "2023-04-20T18:06:14.917705Z",
     "iopub.status.busy": "2023-04-20T18:06:14.916909Z",
     "iopub.status.idle": "2023-04-20T18:06:15.634867Z",
     "shell.execute_reply": "2023-04-20T18:06:15.633338Z"
    },
    "papermill": {
     "duration": 0.7441,
     "end_time": "2023-04-20T18:06:15.641313",
     "exception": false,
     "start_time": "2023-04-20T18:06:14.897213",
     "status": "completed"
    },
    "tags": []
   },
   "outputs": [],
   "source": [
    "\n",
    "ax = y.plot(**plot_params)\n",
    "ax = y_pred.plot()"
   ]
  },
  {
   "cell_type": "markdown",
   "id": "indirect-graduate",
   "metadata": {
    "papermill": {
     "duration": 0.022729,
     "end_time": "2023-04-20T18:06:15.691217",
     "exception": false,
     "start_time": "2023-04-20T18:06:15.668488",
     "status": "completed"
    },
    "tags": []
   },
   "source": [
    "The best time series models will usually include some combination of time-step features and lag features. Over the next few lessons, we'll learn how to engineer features modeling the most common patterns in time series using the features from this lesson as a starting point.\n",
    "\n",
    "# Your Turn #\n",
    "\n",
    "Move on to the Exercise, where you'll begin [**forecasting Store Sales**](https://www.kaggle.com/kernels/fork/19615998) using the techniques you learned in this tutorial."
   ]
  },
  {
   "cell_type": "markdown",
   "id": "f65d9257",
   "metadata": {
    "papermill": {
     "duration": 0.023198,
     "end_time": "2023-04-20T18:06:15.740511",
     "exception": false,
     "start_time": "2023-04-20T18:06:15.717313",
     "status": "completed"
    },
    "tags": []
   },
   "source": [
    "---\n",
    "\n",
    "\n",
    "\n",
    "\n",
    "*Have questions or comments? Visit the [course discussion forum](https://www.kaggle.com/learn/time-series/discussion) to chat with other learners.*"
   ]
  }
 ],
 "metadata": {
  "jupytext": {
   "formats": "ipynb,md"
  },
  "kernelspec": {
   "display_name": "Python 3",
   "language": "python",
   "name": "python3"
  },
  "language_info": {
   "codemirror_mode": {
    "name": "ipython",
    "version": 3
   },
   "file_extension": ".py",
   "mimetype": "text/x-python",
   "name": "python",
   "nbconvert_exporter": "python",
   "pygments_lexer": "ipython3",
   "version": "3.10.8"
  },
  "papermill": {
   "default_parameters": {},
   "duration": 20.308393,
   "end_time": "2023-04-20T18:06:16.992116",
   "environment_variables": {},
   "exception": null,
   "input_path": "__notebook__.ipynb",
   "output_path": "__notebook__.ipynb",
   "parameters": {},
   "start_time": "2023-04-20T18:05:56.683723",
   "version": "2.4.0"
  }
 },
 "nbformat": 4,
 "nbformat_minor": 5
}
